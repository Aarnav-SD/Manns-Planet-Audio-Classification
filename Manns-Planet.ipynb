{
 "cells": [
  {
   "cell_type": "markdown",
   "id": "47371753-03ba-4367-aa2f-3de81a568491",
   "metadata": {},
   "source": [
    "# Mann's Planet"
   ]
  },
  {
   "cell_type": "markdown",
   "id": "5bd9e949-586b-4bbc-98d4-e8a909b8fe02",
   "metadata": {},
   "source": [
    "The objective is the classify given audio files into one of the following categories:\n",
    "1) strathea_iv\n",
    "2) aegir_27\n",
    "3) solmara_vi\n",
    "4) zephyrion_9\n",
    "5) veyrah_theta\n",
    "6) xyphos_1"
   ]
  },
  {
   "cell_type": "markdown",
   "id": "194b4198-c3d1-4b17-ba48-111a950980fd",
   "metadata": {},
   "source": [
    "## The approach:"
   ]
  },
  {
   "cell_type": "markdown",
   "id": "35de321c-e0f7-4f0a-9bd6-ff3fd45ee2dc",
   "metadata": {},
   "source": [
    "A Mel spectrogram is a representation of the audio signal in the time-frequency domain. It is calculated by applying the Short-Time Fourier Transform (STFT) to the audio signal, followed by a transformation to the Mel scale, which mimics the way humans perceive pitch.\n",
    "Steps Involved:\n",
    "1) Load Audio: The audio file (e.g., .wav) is loaded into memory. This can be done using libraries like librosa in Python.\n",
    "\n",
    "2) Short-Time Fourier Transform (STFT): The audio signal is divided into small overlapping frames, and the Fourier Transform is applied to each frame. This process extracts the frequency information for each frame.\n",
    "\n",
    "3) Mel Filter Bank: The frequency bins from the STFT are mapped to the Mel scale using a filter bank. This scale approximates the human ear’s response to different frequencies, emphasizing lower frequencies and compressing higher frequencies.\n",
    "\n",
    "4) Logarithmic Compression: The Mel spectrogram is often compressed logarithmically to reduce the dynamic range and make the features more suitable for neural network-based learning.\n",
    "\n",
    "5) Resulting Output: The output is a 2D matrix, where the x-axis represents time and the y-axis represents frequency (in Mel scale). Each cell contains the amplitude at that particular time and frequency.\n",
    "\n"
   ]
  },
  {
   "cell_type": "markdown",
   "id": "0538e485-0867-4be4-882f-c86aa6c34433",
   "metadata": {},
   "source": [
    "### Imports"
   ]
  },
  {
   "cell_type": "code",
   "execution_count": 164,
   "id": "7ee818a5-11ab-4053-afad-3df8fada8372",
   "metadata": {},
   "outputs": [],
   "source": [
    "import h5py\n",
    "from keras import Input\n",
    "from keras.optimizers import Adam\n",
    "from keras.models import Sequential\n",
    "from keras.layers import Conv2D, MaxPooling2D, Dense, Flatten\n",
    "import librosa\n",
    "import numpy as np\n",
    "import os\n",
    "import optuna\n",
    "import pandas as pd\n",
    "from sklearn.model_selection import train_test_split\n",
    "from sklearn.preprocessing import MinMaxScaler, StandardScaler\n",
    "import tensorflow as tf\n",
    "from tensorflow.keras import layers, models, regularizers\n",
    "from tensorflow.keras.utils import to_categorical\n",
    "from tensorflow.keras.models import Sequential\n",
    "from tensorflow.keras.layers import Conv2D, MaxPooling2D, Flatten, Dense, Dropout, Input, GlobalAveragePooling2D, BatchNormalization\n",
    "from tensorflow.keras.callbacks import EarlyStopping, ReduceLROnPlateau"
   ]
  },
  {
   "cell_type": "markdown",
   "id": "15a9fe33-8d27-4df7-9313-4249992e8206",
   "metadata": {},
   "source": [
    "## Data pre-processing"
   ]
  },
  {
   "cell_type": "code",
   "execution_count": 46,
   "id": "86d7a604-8f12-4556-bd05-13c336068da9",
   "metadata": {},
   "outputs": [],
   "source": [
    "train_dir = \"train/\" \n",
    "test_dir = \"test/\""
   ]
  },
  {
   "cell_type": "markdown",
   "id": "915adc80-d31b-42a7-8cc5-1abf743c6422",
   "metadata": {},
   "source": [
    "#### Constants"
   ]
  },
  {
   "cell_type": "code",
   "execution_count": 11,
   "id": "fc1150dd-dbb0-40dc-9c6b-9c81fffed68f",
   "metadata": {},
   "outputs": [],
   "source": [
    "SR = 16000  # Sampling rate\n",
    "TARGET_DURATION = 30  # Target audio length in seconds\n",
    "MAX_PAD_LENGTH = 128  # Max time steps for Mel spectrogram\n",
    "FEATURE_SIZE = 128 * MAX_PAD_LENGTH  # Size of flattened Mel spectrogram"
   ]
  },
  {
   "cell_type": "markdown",
   "id": "d5e80617-e209-43ef-b56b-56d9bbd10cee",
   "metadata": {},
   "source": [
    "#### Checking the training dataset for empty/corrupted files"
   ]
  },
  {
   "cell_type": "markdown",
   "id": "3ecb0afd-5469-4e0f-86c6-77ef03ccbf1e",
   "metadata": {},
   "source": [
    "The empty files are substituted with placeholder mel spectrograms to account for empty files in the test dataset"
   ]
  },
  {
   "cell_type": "code",
   "execution_count": 14,
   "id": "d4b78b65-8ae5-42ff-a42c-c3bcc807e0a9",
   "metadata": {
    "scrolled": true
   },
   "outputs": [
    {
     "name": "stdout",
     "output_type": "stream",
     "text": [
      "Empty file: train/strathea_iv\\strathea_iv_32.wav\n",
      "Empty file: train/strathea_iv\\strathea_iv_34.wav\n",
      "Empty file: train/strathea_iv\\strathea_iv_35.wav\n",
      "Empty file: train/strathea_iv\\strathea_iv_36.wav\n",
      "Empty file: train/strathea_iv\\strathea_iv_38.wav\n",
      "Empty file: train/strathea_iv\\strathea_iv_39.wav\n",
      "Empty file: train/strathea_iv\\strathea_iv_40.wav\n",
      "Empty file: train/strathea_iv\\strathea_iv_41.wav\n",
      "Empty file: train/strathea_iv\\strathea_iv_42.wav\n",
      "Empty file: train/strathea_iv\\strathea_iv_70.wav\n",
      "Empty file: train/strathea_iv\\strathea_iv_71.wav\n",
      "Empty file: train/strathea_iv\\strathea_iv_78.wav\n",
      "✅ Valid audio files: 468\n",
      "❌ Empty files: 12\n"
     ]
    }
   ],
   "source": [
    "valid_files = 0\n",
    "empty_files = 0\n",
    "\n",
    "for category in os.listdir(train_dir):\n",
    "    category_path = os.path.join(train_dir, category)\n",
    "    if os.path.isdir(category_path):\n",
    "        for file in os.listdir(category_path):\n",
    "            file_path = os.path.join(category_path, file)\n",
    "            try:\n",
    "                y, sr = librosa.load(file_path, sr=16000)\n",
    "                if len(y) == 0:\n",
    "                    print(f\"Empty file: {file_path}\")\n",
    "                    empty_files += 1\n",
    "                else:\n",
    "                    valid_files += 1\n",
    "            except Exception as e:\n",
    "                print(f\"Error loading {file_path}: {e}\")\n",
    "\n",
    "print(f\"✅ Valid audio files: {valid_files}\")\n",
    "print(f\"❌ Empty files: {empty_files}\")"
   ]
  },
  {
   "cell_type": "markdown",
   "id": "8561c95b-f31b-4087-9fa4-3210c65a1475",
   "metadata": {},
   "source": [
    "#### Function to extract mel spectrogram features of the audio files"
   ]
  },
  {
   "cell_type": "markdown",
   "id": "1798c6e5-0761-47c5-bbde-1e75dff98a05",
   "metadata": {},
   "source": [
    "The tasks performed by this function are:\n",
    "1) Check length of audio file, if 0 mark as empty file and set zeroed np array\n",
    "2) To make it so the CNN is trained on uniform data each spectrogram is made using only 30 seconds of audio data, if the length of the audio clip is greater than 30 seconds, the function splits the audio clip into segments. For example a 40 second long audio clip would be split into 30 seconds and 10 seconds segments, a mel spectrogram would be made on the 30 second segment and the 10 second segment gets padded up to 30 seconds and then another spectrogram is made on that\n",
    "3) If length of audio clip is less than 30 seconds, the clip is padded upto 30 seconds and then the mel spectrogram is extracted"
   ]
  },
  {
   "cell_type": "code",
   "execution_count": 17,
   "id": "164468df-4f68-477c-a872-f9f0359acb37",
   "metadata": {},
   "outputs": [],
   "source": [
    "def extract_mel_spectrogram(file_path):\n",
    "    \"\"\"\n",
    "    Extracts Mel spectrograms from audio, handles empty files with a placeholder.\n",
    "    \"\"\"\n",
    "    try:\n",
    "        y, sr = librosa.load(file_path, sr=16000)\n",
    "\n",
    "        if len(y) == 0:\n",
    "            print(f\"⚠️ Empty file: {file_path}\")\n",
    "            return [np.zeros((FEATURE_SIZE,))]  # Placeholder for empty files\n",
    "\n",
    "        max_length = sr * 30 \n",
    "        num_segments = max(1, len(y) // max_length)\n",
    "\n",
    "        features = []\n",
    "        for i in range(num_segments):\n",
    "            start, end = i * max_length, min((i + 1) * max_length, len(y))\n",
    "            segment = y[start:end]\n",
    "\n",
    "            if len(segment) < max_length:\n",
    "                segment = np.pad(segment, (0, max_length - len(segment)))\n",
    "\n",
    "            mel_spec = librosa.feature.melspectrogram(y=segment, sr=sr, n_mels=128)\n",
    "            mel_spec = librosa.power_to_db(mel_spec, ref=np.max)\n",
    "            features.append(mel_spec.flatten())\n",
    "\n",
    "        print(f\"✅ {file_path}: {len(features)} spectrograms extracted\")\n",
    "        return features\n",
    "\n",
    "    except Exception as e:\n",
    "        print(f\"❌ Error processing {file_path}: {e}\")\n",
    "        return [np.zeros((FEATURE_SIZE,))]  # Return placeholder on error"
   ]
  },
  {
   "cell_type": "markdown",
   "id": "8aa3a3d4-3376-4bc8-ab30-66d89049d4c8",
   "metadata": {},
   "source": [
    "#### This function loops through the following directory structure:\n",
    "##### Manns-Planet.ipynb\n",
    "##### train/\n",
    "##### ├── strathea_iv/\n",
    "##### │    ├── strathea_iv_1.wav\n",
    "##### │    ├── strathea_iv_2.wav\n",
    "##### │    ├── ...\n",
    "##### │    └── strathea_iv_80.wav\n",
    "##### ├── aegir_27/\n",
    "##### │    ├── aegir_27_1.wav\n",
    "##### │    ├── aegir_27_2.wav\n",
    "##### │    ├── ...\n",
    "##### │    └── aegir_27_80.wav\n",
    "##### ├── solmara_vi/\n",
    "##### │    ├── solmara_vi_1.wav\n",
    "##### │    ├── solmara_vi_2.wav\n",
    "##### │    ├── ...\n",
    "##### │    └── solmara_vi_80.wav\n",
    "##### ├── zephyrion_9/\n",
    "##### │    ├── zephyrion_9_1.wav\n",
    "##### │    ├── zephyrion_9_2.wav\n",
    "##### │    ├── ...\n",
    "##### │    └── zephyrion_9_80.wav\n",
    "##### ├── veyrah_theta/\n",
    "##### │    ├── veyrah_theta_1.wav\n",
    "##### │    ├── veyrah_theta_2.wav\n",
    "##### │    ├── ...\n",
    "##### │    └── veyrah_theta_80.wav\n",
    "##### └── xyphos_1/\n",
    "#####      ├── xyphos_1_1.wav\n",
    "#####      ├── xyphos_1_2.wav\n",
    "#####      ├── ...\n",
    "#####      └── xyphos_1_80.wav"
   ]
  },
  {
   "cell_type": "markdown",
   "id": "f48345d4-e8fd-4bd6-ac54-f3c3b8e3ba41",
   "metadata": {},
   "source": [
    "In the loop this function passes each audio file to the extract_mel_spectrogram(file_path) function while also creating a list of features and labels which is then added into the output file - tain_dataset.csv"
   ]
  },
  {
   "cell_type": "code",
   "execution_count": 20,
   "id": "f04c21d0-26ba-4c36-b88b-5bed260b0079",
   "metadata": {},
   "outputs": [],
   "source": [
    "def process_audio_dataset(data_dir, save_path):\n",
    "    data = []\n",
    "    labels = []\n",
    "\n",
    "    for category in os.listdir(data_dir):\n",
    "        category_path = os.path.join(data_dir, category)\n",
    "        if os.path.isdir(category_path):\n",
    "            label = category  \n",
    "            for file in os.listdir(category_path):\n",
    "                file_path = os.path.join(category_path, file)\n",
    "                mel_features = extract_mel_spectrogram(file_path)\n",
    "                \n",
    "                for feature in mel_features:\n",
    "                    data.append(feature)\n",
    "                    labels.append(label)\n",
    "    \n",
    "    df = pd.DataFrame(data)\n",
    "    df[\"label\"] = labels  \n",
    "\n",
    "    if len(df) > 0:\n",
    "        print(\"📊 First row of dataset:\", df.iloc[0])  \n",
    "        df.to_csv(save_path, index=False)\n",
    "        print(f\"✅ Dataset saved to {save_path} with {len(df)} samples.\")\n",
    "    else:\n",
    "        print(\"❌ No data to save! Check audio processing.\")"
   ]
  },
  {
   "cell_type": "markdown",
   "id": "790c8862-23d6-4378-a628-fc592e5ecf2e",
   "metadata": {},
   "source": [
    "#### Processes the training data and outputs train_dataset.csv"
   ]
  },
  {
   "cell_type": "code",
   "execution_count": 22,
   "id": "71963568-dec5-44e0-8474-03b94eded584",
   "metadata": {},
   "outputs": [
    {
     "name": "stdout",
     "output_type": "stream",
     "text": [
      "✅ train/aegir_27\\aegir_27_0.wav: 1 spectrograms extracted\n",
      "✅ train/aegir_27\\aegir_27_1.wav: 1 spectrograms extracted\n",
      "✅ train/aegir_27\\aegir_27_10.wav: 1 spectrograms extracted\n",
      "✅ train/aegir_27\\aegir_27_11.wav: 1 spectrograms extracted\n",
      "✅ train/aegir_27\\aegir_27_12.wav: 1 spectrograms extracted\n",
      "✅ train/aegir_27\\aegir_27_13.wav: 1 spectrograms extracted\n",
      "✅ train/aegir_27\\aegir_27_14.wav: 1 spectrograms extracted\n",
      "✅ train/aegir_27\\aegir_27_15.wav: 1 spectrograms extracted\n",
      "✅ train/aegir_27\\aegir_27_16.wav: 1 spectrograms extracted\n",
      "✅ train/aegir_27\\aegir_27_17.wav: 1 spectrograms extracted\n",
      "✅ train/aegir_27\\aegir_27_18.wav: 1 spectrograms extracted\n",
      "✅ train/aegir_27\\aegir_27_19.wav: 1 spectrograms extracted\n",
      "✅ train/aegir_27\\aegir_27_2.wav: 1 spectrograms extracted\n",
      "✅ train/aegir_27\\aegir_27_20.wav: 1 spectrograms extracted\n",
      "✅ train/aegir_27\\aegir_27_21.wav: 1 spectrograms extracted\n",
      "✅ train/aegir_27\\aegir_27_22.wav: 1 spectrograms extracted\n",
      "✅ train/aegir_27\\aegir_27_23.wav: 1 spectrograms extracted\n",
      "✅ train/aegir_27\\aegir_27_24.wav: 1 spectrograms extracted\n",
      "✅ train/aegir_27\\aegir_27_25.wav: 1 spectrograms extracted\n",
      "✅ train/aegir_27\\aegir_27_26.wav: 1 spectrograms extracted\n",
      "✅ train/aegir_27\\aegir_27_27.wav: 1 spectrograms extracted\n",
      "✅ train/aegir_27\\aegir_27_28.wav: 1 spectrograms extracted\n",
      "✅ train/aegir_27\\aegir_27_29.wav: 1 spectrograms extracted\n",
      "✅ train/aegir_27\\aegir_27_3.wav: 1 spectrograms extracted\n",
      "✅ train/aegir_27\\aegir_27_30.wav: 1 spectrograms extracted\n",
      "✅ train/aegir_27\\aegir_27_31.wav: 1 spectrograms extracted\n",
      "✅ train/aegir_27\\aegir_27_32.wav: 1 spectrograms extracted\n",
      "✅ train/aegir_27\\aegir_27_33.wav: 1 spectrograms extracted\n",
      "✅ train/aegir_27\\aegir_27_34.wav: 1 spectrograms extracted\n",
      "✅ train/aegir_27\\aegir_27_35.wav: 1 spectrograms extracted\n",
      "✅ train/aegir_27\\aegir_27_36.wav: 1 spectrograms extracted\n",
      "✅ train/aegir_27\\aegir_27_37.wav: 1 spectrograms extracted\n",
      "✅ train/aegir_27\\aegir_27_38.wav: 1 spectrograms extracted\n",
      "✅ train/aegir_27\\aegir_27_39.wav: 1 spectrograms extracted\n",
      "✅ train/aegir_27\\aegir_27_4.wav: 1 spectrograms extracted\n",
      "✅ train/aegir_27\\aegir_27_40.wav: 1 spectrograms extracted\n",
      "✅ train/aegir_27\\aegir_27_41.wav: 1 spectrograms extracted\n",
      "✅ train/aegir_27\\aegir_27_42.wav: 1 spectrograms extracted\n",
      "✅ train/aegir_27\\aegir_27_43.wav: 1 spectrograms extracted\n",
      "✅ train/aegir_27\\aegir_27_44.wav: 1 spectrograms extracted\n",
      "✅ train/aegir_27\\aegir_27_45.wav: 1 spectrograms extracted\n",
      "✅ train/aegir_27\\aegir_27_46.wav: 1 spectrograms extracted\n",
      "✅ train/aegir_27\\aegir_27_47.wav: 1 spectrograms extracted\n",
      "✅ train/aegir_27\\aegir_27_48.wav: 1 spectrograms extracted\n",
      "✅ train/aegir_27\\aegir_27_49.wav: 1 spectrograms extracted\n",
      "✅ train/aegir_27\\aegir_27_5.wav: 1 spectrograms extracted\n",
      "✅ train/aegir_27\\aegir_27_50.wav: 1 spectrograms extracted\n",
      "✅ train/aegir_27\\aegir_27_51.wav: 1 spectrograms extracted\n",
      "✅ train/aegir_27\\aegir_27_52.wav: 1 spectrograms extracted\n",
      "✅ train/aegir_27\\aegir_27_53.wav: 1 spectrograms extracted\n",
      "✅ train/aegir_27\\aegir_27_54.wav: 1 spectrograms extracted\n",
      "✅ train/aegir_27\\aegir_27_55.wav: 1 spectrograms extracted\n",
      "✅ train/aegir_27\\aegir_27_56.wav: 1 spectrograms extracted\n",
      "✅ train/aegir_27\\aegir_27_57.wav: 1 spectrograms extracted\n",
      "✅ train/aegir_27\\aegir_27_58.wav: 1 spectrograms extracted\n",
      "✅ train/aegir_27\\aegir_27_59.wav: 1 spectrograms extracted\n",
      "✅ train/aegir_27\\aegir_27_6.wav: 1 spectrograms extracted\n",
      "✅ train/aegir_27\\aegir_27_60.wav: 1 spectrograms extracted\n",
      "✅ train/aegir_27\\aegir_27_61.wav: 1 spectrograms extracted\n",
      "✅ train/aegir_27\\aegir_27_62.wav: 1 spectrograms extracted\n",
      "✅ train/aegir_27\\aegir_27_63.wav: 1 spectrograms extracted\n",
      "✅ train/aegir_27\\aegir_27_64.wav: 1 spectrograms extracted\n",
      "✅ train/aegir_27\\aegir_27_65.wav: 1 spectrograms extracted\n",
      "✅ train/aegir_27\\aegir_27_66.wav: 1 spectrograms extracted\n",
      "✅ train/aegir_27\\aegir_27_67.wav: 1 spectrograms extracted\n",
      "✅ train/aegir_27\\aegir_27_68.wav: 1 spectrograms extracted\n",
      "✅ train/aegir_27\\aegir_27_69.wav: 1 spectrograms extracted\n",
      "✅ train/aegir_27\\aegir_27_7.wav: 1 spectrograms extracted\n",
      "✅ train/aegir_27\\aegir_27_70.wav: 1 spectrograms extracted\n",
      "✅ train/aegir_27\\aegir_27_71.wav: 1 spectrograms extracted\n",
      "✅ train/aegir_27\\aegir_27_72.wav: 1 spectrograms extracted\n",
      "✅ train/aegir_27\\aegir_27_73.wav: 1 spectrograms extracted\n",
      "✅ train/aegir_27\\aegir_27_74.wav: 1 spectrograms extracted\n",
      "✅ train/aegir_27\\aegir_27_75.wav: 1 spectrograms extracted\n",
      "✅ train/aegir_27\\aegir_27_76.wav: 1 spectrograms extracted\n",
      "✅ train/aegir_27\\aegir_27_77.wav: 1 spectrograms extracted\n",
      "✅ train/aegir_27\\aegir_27_78.wav: 1 spectrograms extracted\n",
      "✅ train/aegir_27\\aegir_27_79.wav: 1 spectrograms extracted\n",
      "✅ train/aegir_27\\aegir_27_8.wav: 1 spectrograms extracted\n",
      "✅ train/aegir_27\\aegir_27_9.wav: 1 spectrograms extracted\n",
      "✅ train/solmara_vi\\solmara_vi_0.wav: 1 spectrograms extracted\n",
      "✅ train/solmara_vi\\solmara_vi_1.wav: 1 spectrograms extracted\n",
      "✅ train/solmara_vi\\solmara_vi_10.wav: 1 spectrograms extracted\n",
      "✅ train/solmara_vi\\solmara_vi_11.wav: 1 spectrograms extracted\n",
      "✅ train/solmara_vi\\solmara_vi_12.wav: 1 spectrograms extracted\n",
      "✅ train/solmara_vi\\solmara_vi_13.wav: 1 spectrograms extracted\n",
      "✅ train/solmara_vi\\solmara_vi_14.wav: 1 spectrograms extracted\n",
      "✅ train/solmara_vi\\solmara_vi_15.wav: 1 spectrograms extracted\n",
      "✅ train/solmara_vi\\solmara_vi_16.wav: 1 spectrograms extracted\n",
      "✅ train/solmara_vi\\solmara_vi_17.wav: 1 spectrograms extracted\n",
      "✅ train/solmara_vi\\solmara_vi_18.wav: 1 spectrograms extracted\n",
      "✅ train/solmara_vi\\solmara_vi_19.wav: 1 spectrograms extracted\n",
      "✅ train/solmara_vi\\solmara_vi_2.wav: 1 spectrograms extracted\n",
      "✅ train/solmara_vi\\solmara_vi_20.wav: 1 spectrograms extracted\n",
      "✅ train/solmara_vi\\solmara_vi_21.wav: 1 spectrograms extracted\n",
      "✅ train/solmara_vi\\solmara_vi_22.wav: 1 spectrograms extracted\n",
      "✅ train/solmara_vi\\solmara_vi_23.wav: 1 spectrograms extracted\n",
      "✅ train/solmara_vi\\solmara_vi_24.wav: 1 spectrograms extracted\n",
      "✅ train/solmara_vi\\solmara_vi_25.wav: 1 spectrograms extracted\n",
      "✅ train/solmara_vi\\solmara_vi_26.wav: 1 spectrograms extracted\n",
      "✅ train/solmara_vi\\solmara_vi_27.wav: 1 spectrograms extracted\n",
      "✅ train/solmara_vi\\solmara_vi_28.wav: 1 spectrograms extracted\n",
      "✅ train/solmara_vi\\solmara_vi_29.wav: 1 spectrograms extracted\n",
      "✅ train/solmara_vi\\solmara_vi_3.wav: 1 spectrograms extracted\n",
      "✅ train/solmara_vi\\solmara_vi_30.wav: 1 spectrograms extracted\n",
      "✅ train/solmara_vi\\solmara_vi_31.wav: 1 spectrograms extracted\n",
      "✅ train/solmara_vi\\solmara_vi_32.wav: 1 spectrograms extracted\n",
      "✅ train/solmara_vi\\solmara_vi_33.wav: 1 spectrograms extracted\n",
      "✅ train/solmara_vi\\solmara_vi_34.wav: 1 spectrograms extracted\n",
      "✅ train/solmara_vi\\solmara_vi_35.wav: 1 spectrograms extracted\n",
      "✅ train/solmara_vi\\solmara_vi_36.wav: 1 spectrograms extracted\n",
      "✅ train/solmara_vi\\solmara_vi_37.wav: 1 spectrograms extracted\n",
      "✅ train/solmara_vi\\solmara_vi_38.wav: 1 spectrograms extracted\n",
      "✅ train/solmara_vi\\solmara_vi_39.wav: 1 spectrograms extracted\n",
      "✅ train/solmara_vi\\solmara_vi_4.wav: 1 spectrograms extracted\n",
      "✅ train/solmara_vi\\solmara_vi_40.wav: 1 spectrograms extracted\n",
      "✅ train/solmara_vi\\solmara_vi_41.wav: 1 spectrograms extracted\n",
      "✅ train/solmara_vi\\solmara_vi_42.wav: 1 spectrograms extracted\n",
      "✅ train/solmara_vi\\solmara_vi_43.wav: 1 spectrograms extracted\n",
      "✅ train/solmara_vi\\solmara_vi_44.wav: 1 spectrograms extracted\n",
      "✅ train/solmara_vi\\solmara_vi_45.wav: 1 spectrograms extracted\n",
      "✅ train/solmara_vi\\solmara_vi_46.wav: 1 spectrograms extracted\n",
      "✅ train/solmara_vi\\solmara_vi_47.wav: 1 spectrograms extracted\n",
      "✅ train/solmara_vi\\solmara_vi_48.wav: 1 spectrograms extracted\n",
      "✅ train/solmara_vi\\solmara_vi_49.wav: 1 spectrograms extracted\n",
      "✅ train/solmara_vi\\solmara_vi_5.wav: 1 spectrograms extracted\n",
      "✅ train/solmara_vi\\solmara_vi_50.wav: 1 spectrograms extracted\n",
      "✅ train/solmara_vi\\solmara_vi_51.wav: 1 spectrograms extracted\n",
      "✅ train/solmara_vi\\solmara_vi_52.wav: 1 spectrograms extracted\n",
      "✅ train/solmara_vi\\solmara_vi_53.wav: 1 spectrograms extracted\n",
      "✅ train/solmara_vi\\solmara_vi_54.wav: 1 spectrograms extracted\n",
      "✅ train/solmara_vi\\solmara_vi_55.wav: 1 spectrograms extracted\n",
      "✅ train/solmara_vi\\solmara_vi_56.wav: 1 spectrograms extracted\n",
      "✅ train/solmara_vi\\solmara_vi_57.wav: 1 spectrograms extracted\n",
      "✅ train/solmara_vi\\solmara_vi_58.wav: 1 spectrograms extracted\n",
      "✅ train/solmara_vi\\solmara_vi_59.wav: 1 spectrograms extracted\n",
      "✅ train/solmara_vi\\solmara_vi_6.wav: 1 spectrograms extracted\n",
      "✅ train/solmara_vi\\solmara_vi_60.wav: 1 spectrograms extracted\n",
      "✅ train/solmara_vi\\solmara_vi_61.wav: 1 spectrograms extracted\n",
      "✅ train/solmara_vi\\solmara_vi_62.wav: 1 spectrograms extracted\n",
      "✅ train/solmara_vi\\solmara_vi_63.wav: 1 spectrograms extracted\n",
      "✅ train/solmara_vi\\solmara_vi_64.wav: 1 spectrograms extracted\n",
      "✅ train/solmara_vi\\solmara_vi_65.wav: 1 spectrograms extracted\n",
      "✅ train/solmara_vi\\solmara_vi_66.wav: 1 spectrograms extracted\n",
      "✅ train/solmara_vi\\solmara_vi_67.wav: 1 spectrograms extracted\n",
      "✅ train/solmara_vi\\solmara_vi_68.wav: 1 spectrograms extracted\n",
      "✅ train/solmara_vi\\solmara_vi_69.wav: 1 spectrograms extracted\n",
      "✅ train/solmara_vi\\solmara_vi_7.wav: 1 spectrograms extracted\n",
      "✅ train/solmara_vi\\solmara_vi_70.wav: 1 spectrograms extracted\n",
      "✅ train/solmara_vi\\solmara_vi_71.wav: 1 spectrograms extracted\n",
      "✅ train/solmara_vi\\solmara_vi_72.wav: 1 spectrograms extracted\n",
      "✅ train/solmara_vi\\solmara_vi_73.wav: 1 spectrograms extracted\n",
      "✅ train/solmara_vi\\solmara_vi_74.wav: 1 spectrograms extracted\n",
      "✅ train/solmara_vi\\solmara_vi_75.wav: 1 spectrograms extracted\n",
      "✅ train/solmara_vi\\solmara_vi_76.wav: 1 spectrograms extracted\n",
      "✅ train/solmara_vi\\solmara_vi_77.wav: 1 spectrograms extracted\n",
      "✅ train/solmara_vi\\solmara_vi_78.wav: 1 spectrograms extracted\n",
      "✅ train/solmara_vi\\solmara_vi_79.wav: 1 spectrograms extracted\n",
      "✅ train/solmara_vi\\solmara_vi_8.wav: 1 spectrograms extracted\n",
      "✅ train/solmara_vi\\solmara_vi_9.wav: 1 spectrograms extracted\n",
      "✅ train/strathea_iv\\strathea_iv_0.wav: 1 spectrograms extracted\n",
      "✅ train/strathea_iv\\strathea_iv_1.wav: 1 spectrograms extracted\n",
      "✅ train/strathea_iv\\strathea_iv_10.wav: 1 spectrograms extracted\n",
      "✅ train/strathea_iv\\strathea_iv_11.wav: 1 spectrograms extracted\n",
      "✅ train/strathea_iv\\strathea_iv_12.wav: 1 spectrograms extracted\n",
      "✅ train/strathea_iv\\strathea_iv_13.wav: 1 spectrograms extracted\n",
      "✅ train/strathea_iv\\strathea_iv_14.wav: 1 spectrograms extracted\n",
      "✅ train/strathea_iv\\strathea_iv_15.wav: 1 spectrograms extracted\n",
      "✅ train/strathea_iv\\strathea_iv_16.wav: 1 spectrograms extracted\n",
      "✅ train/strathea_iv\\strathea_iv_17.wav: 1 spectrograms extracted\n",
      "✅ train/strathea_iv\\strathea_iv_18.wav: 1 spectrograms extracted\n",
      "✅ train/strathea_iv\\strathea_iv_19.wav: 25 spectrograms extracted\n",
      "✅ train/strathea_iv\\strathea_iv_2.wav: 1 spectrograms extracted\n",
      "✅ train/strathea_iv\\strathea_iv_20.wav: 1 spectrograms extracted\n",
      "✅ train/strathea_iv\\strathea_iv_21.wav: 1 spectrograms extracted\n",
      "✅ train/strathea_iv\\strathea_iv_22.wav: 1 spectrograms extracted\n",
      "✅ train/strathea_iv\\strathea_iv_23.wav: 1 spectrograms extracted\n",
      "✅ train/strathea_iv\\strathea_iv_24.wav: 1 spectrograms extracted\n",
      "✅ train/strathea_iv\\strathea_iv_25.wav: 1 spectrograms extracted\n",
      "✅ train/strathea_iv\\strathea_iv_26.wav: 1 spectrograms extracted\n",
      "✅ train/strathea_iv\\strathea_iv_27.wav: 1 spectrograms extracted\n",
      "✅ train/strathea_iv\\strathea_iv_28.wav: 1 spectrograms extracted\n",
      "✅ train/strathea_iv\\strathea_iv_29.wav: 1 spectrograms extracted\n",
      "✅ train/strathea_iv\\strathea_iv_3.wav: 1 spectrograms extracted\n",
      "✅ train/strathea_iv\\strathea_iv_30.wav: 1 spectrograms extracted\n",
      "✅ train/strathea_iv\\strathea_iv_31.wav: 1 spectrograms extracted\n",
      "⚠️ Empty file: train/strathea_iv\\strathea_iv_32.wav\n",
      "✅ train/strathea_iv\\strathea_iv_33.wav: 23 spectrograms extracted\n",
      "⚠️ Empty file: train/strathea_iv\\strathea_iv_34.wav\n",
      "⚠️ Empty file: train/strathea_iv\\strathea_iv_35.wav\n",
      "⚠️ Empty file: train/strathea_iv\\strathea_iv_36.wav\n",
      "✅ train/strathea_iv\\strathea_iv_37.wav: 1 spectrograms extracted\n",
      "⚠️ Empty file: train/strathea_iv\\strathea_iv_38.wav\n",
      "⚠️ Empty file: train/strathea_iv\\strathea_iv_39.wav\n",
      "✅ train/strathea_iv\\strathea_iv_4.wav: 1 spectrograms extracted\n",
      "⚠️ Empty file: train/strathea_iv\\strathea_iv_40.wav\n",
      "⚠️ Empty file: train/strathea_iv\\strathea_iv_41.wav\n",
      "⚠️ Empty file: train/strathea_iv\\strathea_iv_42.wav\n",
      "✅ train/strathea_iv\\strathea_iv_43.wav: 1 spectrograms extracted\n",
      "✅ train/strathea_iv\\strathea_iv_44.wav: 1 spectrograms extracted\n",
      "✅ train/strathea_iv\\strathea_iv_45.wav: 1 spectrograms extracted\n",
      "✅ train/strathea_iv\\strathea_iv_46.wav: 1 spectrograms extracted\n",
      "✅ train/strathea_iv\\strathea_iv_47.wav: 1 spectrograms extracted\n",
      "✅ train/strathea_iv\\strathea_iv_48.wav: 1 spectrograms extracted\n",
      "✅ train/strathea_iv\\strathea_iv_49.wav: 1 spectrograms extracted\n",
      "✅ train/strathea_iv\\strathea_iv_5.wav: 1 spectrograms extracted\n",
      "✅ train/strathea_iv\\strathea_iv_50.wav: 1 spectrograms extracted\n",
      "✅ train/strathea_iv\\strathea_iv_51.wav: 1 spectrograms extracted\n",
      "✅ train/strathea_iv\\strathea_iv_52.wav: 1 spectrograms extracted\n",
      "✅ train/strathea_iv\\strathea_iv_53.wav: 1 spectrograms extracted\n",
      "✅ train/strathea_iv\\strathea_iv_54.wav: 1 spectrograms extracted\n",
      "✅ train/strathea_iv\\strathea_iv_55.wav: 1 spectrograms extracted\n",
      "✅ train/strathea_iv\\strathea_iv_56.wav: 1 spectrograms extracted\n",
      "✅ train/strathea_iv\\strathea_iv_57.wav: 1 spectrograms extracted\n",
      "✅ train/strathea_iv\\strathea_iv_58.wav: 1 spectrograms extracted\n",
      "✅ train/strathea_iv\\strathea_iv_59.wav: 1 spectrograms extracted\n",
      "✅ train/strathea_iv\\strathea_iv_6.wav: 1 spectrograms extracted\n",
      "✅ train/strathea_iv\\strathea_iv_60.wav: 1 spectrograms extracted\n",
      "✅ train/strathea_iv\\strathea_iv_61.wav: 1 spectrograms extracted\n",
      "✅ train/strathea_iv\\strathea_iv_62.wav: 1 spectrograms extracted\n",
      "✅ train/strathea_iv\\strathea_iv_63.wav: 1 spectrograms extracted\n",
      "✅ train/strathea_iv\\strathea_iv_64.wav: 1 spectrograms extracted\n",
      "✅ train/strathea_iv\\strathea_iv_65.wav: 1 spectrograms extracted\n",
      "✅ train/strathea_iv\\strathea_iv_66.wav: 1 spectrograms extracted\n",
      "✅ train/strathea_iv\\strathea_iv_67.wav: 1 spectrograms extracted\n",
      "✅ train/strathea_iv\\strathea_iv_68.wav: 1 spectrograms extracted\n",
      "✅ train/strathea_iv\\strathea_iv_69.wav: 1 spectrograms extracted\n",
      "✅ train/strathea_iv\\strathea_iv_7.wav: 1 spectrograms extracted\n",
      "⚠️ Empty file: train/strathea_iv\\strathea_iv_70.wav\n",
      "⚠️ Empty file: train/strathea_iv\\strathea_iv_71.wav\n",
      "✅ train/strathea_iv\\strathea_iv_72.wav: 1 spectrograms extracted\n",
      "✅ train/strathea_iv\\strathea_iv_73.wav: 1 spectrograms extracted\n",
      "✅ train/strathea_iv\\strathea_iv_74.wav: 1 spectrograms extracted\n",
      "✅ train/strathea_iv\\strathea_iv_75.wav: 1 spectrograms extracted\n",
      "✅ train/strathea_iv\\strathea_iv_76.wav: 1 spectrograms extracted\n",
      "✅ train/strathea_iv\\strathea_iv_77.wav: 1 spectrograms extracted\n",
      "⚠️ Empty file: train/strathea_iv\\strathea_iv_78.wav\n",
      "✅ train/strathea_iv\\strathea_iv_79.wav: 1 spectrograms extracted\n",
      "✅ train/strathea_iv\\strathea_iv_8.wav: 1 spectrograms extracted\n",
      "✅ train/strathea_iv\\strathea_iv_9.wav: 1 spectrograms extracted\n",
      "✅ train/veyrah_theta\\veyrah_theta_0.wav: 1 spectrograms extracted\n",
      "✅ train/veyrah_theta\\veyrah_theta_1.wav: 1 spectrograms extracted\n",
      "✅ train/veyrah_theta\\veyrah_theta_10.wav: 1 spectrograms extracted\n",
      "✅ train/veyrah_theta\\veyrah_theta_11.wav: 1 spectrograms extracted\n",
      "✅ train/veyrah_theta\\veyrah_theta_12.wav: 1 spectrograms extracted\n",
      "✅ train/veyrah_theta\\veyrah_theta_13.wav: 1 spectrograms extracted\n",
      "✅ train/veyrah_theta\\veyrah_theta_14.wav: 1 spectrograms extracted\n",
      "✅ train/veyrah_theta\\veyrah_theta_15.wav: 1 spectrograms extracted\n",
      "✅ train/veyrah_theta\\veyrah_theta_16.wav: 1 spectrograms extracted\n",
      "✅ train/veyrah_theta\\veyrah_theta_17.wav: 1 spectrograms extracted\n",
      "✅ train/veyrah_theta\\veyrah_theta_18.wav: 1 spectrograms extracted\n",
      "✅ train/veyrah_theta\\veyrah_theta_19.wav: 1 spectrograms extracted\n",
      "✅ train/veyrah_theta\\veyrah_theta_2.wav: 1 spectrograms extracted\n",
      "✅ train/veyrah_theta\\veyrah_theta_20.wav: 1 spectrograms extracted\n",
      "✅ train/veyrah_theta\\veyrah_theta_21.wav: 1 spectrograms extracted\n",
      "✅ train/veyrah_theta\\veyrah_theta_22.wav: 1 spectrograms extracted\n",
      "✅ train/veyrah_theta\\veyrah_theta_23.wav: 1 spectrograms extracted\n",
      "✅ train/veyrah_theta\\veyrah_theta_24.wav: 1 spectrograms extracted\n",
      "✅ train/veyrah_theta\\veyrah_theta_25.wav: 1 spectrograms extracted\n",
      "✅ train/veyrah_theta\\veyrah_theta_26.wav: 1 spectrograms extracted\n",
      "✅ train/veyrah_theta\\veyrah_theta_27.wav: 1 spectrograms extracted\n",
      "✅ train/veyrah_theta\\veyrah_theta_28.wav: 1 spectrograms extracted\n",
      "✅ train/veyrah_theta\\veyrah_theta_29.wav: 1 spectrograms extracted\n",
      "✅ train/veyrah_theta\\veyrah_theta_3.wav: 1 spectrograms extracted\n",
      "✅ train/veyrah_theta\\veyrah_theta_30.wav: 1 spectrograms extracted\n",
      "✅ train/veyrah_theta\\veyrah_theta_31.wav: 1 spectrograms extracted\n",
      "✅ train/veyrah_theta\\veyrah_theta_32.wav: 1 spectrograms extracted\n",
      "✅ train/veyrah_theta\\veyrah_theta_33.wav: 1 spectrograms extracted\n",
      "✅ train/veyrah_theta\\veyrah_theta_34.wav: 1 spectrograms extracted\n",
      "✅ train/veyrah_theta\\veyrah_theta_35.wav: 1 spectrograms extracted\n",
      "✅ train/veyrah_theta\\veyrah_theta_36.wav: 1 spectrograms extracted\n",
      "✅ train/veyrah_theta\\veyrah_theta_37.wav: 1 spectrograms extracted\n",
      "✅ train/veyrah_theta\\veyrah_theta_38.wav: 1 spectrograms extracted\n",
      "✅ train/veyrah_theta\\veyrah_theta_39.wav: 1 spectrograms extracted\n",
      "✅ train/veyrah_theta\\veyrah_theta_4.wav: 1 spectrograms extracted\n",
      "✅ train/veyrah_theta\\veyrah_theta_40.wav: 1 spectrograms extracted\n",
      "✅ train/veyrah_theta\\veyrah_theta_41.wav: 1 spectrograms extracted\n",
      "✅ train/veyrah_theta\\veyrah_theta_42.wav: 1 spectrograms extracted\n",
      "✅ train/veyrah_theta\\veyrah_theta_43.wav: 1 spectrograms extracted\n",
      "✅ train/veyrah_theta\\veyrah_theta_44.wav: 1 spectrograms extracted\n",
      "✅ train/veyrah_theta\\veyrah_theta_45.wav: 1 spectrograms extracted\n",
      "✅ train/veyrah_theta\\veyrah_theta_46.wav: 1 spectrograms extracted\n",
      "✅ train/veyrah_theta\\veyrah_theta_47.wav: 1 spectrograms extracted\n",
      "✅ train/veyrah_theta\\veyrah_theta_48.wav: 1 spectrograms extracted\n",
      "✅ train/veyrah_theta\\veyrah_theta_49.wav: 1 spectrograms extracted\n",
      "✅ train/veyrah_theta\\veyrah_theta_5.wav: 1 spectrograms extracted\n",
      "✅ train/veyrah_theta\\veyrah_theta_50.wav: 1 spectrograms extracted\n",
      "✅ train/veyrah_theta\\veyrah_theta_51.wav: 1 spectrograms extracted\n",
      "✅ train/veyrah_theta\\veyrah_theta_52.wav: 1 spectrograms extracted\n",
      "✅ train/veyrah_theta\\veyrah_theta_53.wav: 1 spectrograms extracted\n",
      "✅ train/veyrah_theta\\veyrah_theta_54.wav: 1 spectrograms extracted\n",
      "✅ train/veyrah_theta\\veyrah_theta_55.wav: 1 spectrograms extracted\n",
      "✅ train/veyrah_theta\\veyrah_theta_56.wav: 1 spectrograms extracted\n",
      "✅ train/veyrah_theta\\veyrah_theta_57.wav: 1 spectrograms extracted\n",
      "✅ train/veyrah_theta\\veyrah_theta_58.wav: 1 spectrograms extracted\n",
      "✅ train/veyrah_theta\\veyrah_theta_59.wav: 1 spectrograms extracted\n",
      "✅ train/veyrah_theta\\veyrah_theta_6.wav: 1 spectrograms extracted\n",
      "✅ train/veyrah_theta\\veyrah_theta_60.wav: 1 spectrograms extracted\n",
      "✅ train/veyrah_theta\\veyrah_theta_61.wav: 1 spectrograms extracted\n",
      "✅ train/veyrah_theta\\veyrah_theta_62.wav: 1 spectrograms extracted\n",
      "✅ train/veyrah_theta\\veyrah_theta_63.wav: 1 spectrograms extracted\n",
      "✅ train/veyrah_theta\\veyrah_theta_64.wav: 1 spectrograms extracted\n",
      "✅ train/veyrah_theta\\veyrah_theta_65.wav: 1 spectrograms extracted\n",
      "✅ train/veyrah_theta\\veyrah_theta_66.wav: 1 spectrograms extracted\n",
      "✅ train/veyrah_theta\\veyrah_theta_67.wav: 1 spectrograms extracted\n",
      "✅ train/veyrah_theta\\veyrah_theta_68.wav: 1 spectrograms extracted\n",
      "✅ train/veyrah_theta\\veyrah_theta_69.wav: 1 spectrograms extracted\n",
      "✅ train/veyrah_theta\\veyrah_theta_7.wav: 1 spectrograms extracted\n",
      "✅ train/veyrah_theta\\veyrah_theta_70.wav: 1 spectrograms extracted\n",
      "✅ train/veyrah_theta\\veyrah_theta_71.wav: 1 spectrograms extracted\n",
      "✅ train/veyrah_theta\\veyrah_theta_72.wav: 1 spectrograms extracted\n",
      "✅ train/veyrah_theta\\veyrah_theta_73.wav: 1 spectrograms extracted\n",
      "✅ train/veyrah_theta\\veyrah_theta_74.wav: 1 spectrograms extracted\n",
      "✅ train/veyrah_theta\\veyrah_theta_75.wav: 1 spectrograms extracted\n",
      "✅ train/veyrah_theta\\veyrah_theta_76.wav: 1 spectrograms extracted\n",
      "✅ train/veyrah_theta\\veyrah_theta_77.wav: 1 spectrograms extracted\n",
      "✅ train/veyrah_theta\\veyrah_theta_78.wav: 1 spectrograms extracted\n",
      "✅ train/veyrah_theta\\veyrah_theta_79.wav: 1 spectrograms extracted\n",
      "✅ train/veyrah_theta\\veyrah_theta_8.wav: 1 spectrograms extracted\n",
      "✅ train/veyrah_theta\\veyrah_theta_9.wav: 1 spectrograms extracted\n",
      "✅ train/xyphos_1\\xyphos_1_0.wav: 1 spectrograms extracted\n",
      "✅ train/xyphos_1\\xyphos_1_1.wav: 1 spectrograms extracted\n",
      "✅ train/xyphos_1\\xyphos_1_10.wav: 1 spectrograms extracted\n",
      "✅ train/xyphos_1\\xyphos_1_11.wav: 1 spectrograms extracted\n",
      "✅ train/xyphos_1\\xyphos_1_12.wav: 1 spectrograms extracted\n",
      "✅ train/xyphos_1\\xyphos_1_13.wav: 1 spectrograms extracted\n",
      "✅ train/xyphos_1\\xyphos_1_14.wav: 1 spectrograms extracted\n",
      "✅ train/xyphos_1\\xyphos_1_15.wav: 1 spectrograms extracted\n",
      "✅ train/xyphos_1\\xyphos_1_16.wav: 1 spectrograms extracted\n",
      "✅ train/xyphos_1\\xyphos_1_17.wav: 1 spectrograms extracted\n",
      "✅ train/xyphos_1\\xyphos_1_18.wav: 1 spectrograms extracted\n",
      "✅ train/xyphos_1\\xyphos_1_19.wav: 1 spectrograms extracted\n",
      "✅ train/xyphos_1\\xyphos_1_2.wav: 1 spectrograms extracted\n",
      "✅ train/xyphos_1\\xyphos_1_20.wav: 1 spectrograms extracted\n",
      "✅ train/xyphos_1\\xyphos_1_21.wav: 1 spectrograms extracted\n",
      "✅ train/xyphos_1\\xyphos_1_22.wav: 1 spectrograms extracted\n",
      "✅ train/xyphos_1\\xyphos_1_23.wav: 1 spectrograms extracted\n",
      "✅ train/xyphos_1\\xyphos_1_24.wav: 1 spectrograms extracted\n",
      "✅ train/xyphos_1\\xyphos_1_25.wav: 1 spectrograms extracted\n",
      "✅ train/xyphos_1\\xyphos_1_26.wav: 1 spectrograms extracted\n",
      "✅ train/xyphos_1\\xyphos_1_27.wav: 1 spectrograms extracted\n",
      "✅ train/xyphos_1\\xyphos_1_28.wav: 1 spectrograms extracted\n",
      "✅ train/xyphos_1\\xyphos_1_29.wav: 1 spectrograms extracted\n",
      "✅ train/xyphos_1\\xyphos_1_3.wav: 1 spectrograms extracted\n",
      "✅ train/xyphos_1\\xyphos_1_30.wav: 1 spectrograms extracted\n",
      "✅ train/xyphos_1\\xyphos_1_31.wav: 1 spectrograms extracted\n",
      "✅ train/xyphos_1\\xyphos_1_32.wav: 1 spectrograms extracted\n",
      "✅ train/xyphos_1\\xyphos_1_33.wav: 1 spectrograms extracted\n",
      "✅ train/xyphos_1\\xyphos_1_34.wav: 1 spectrograms extracted\n",
      "✅ train/xyphos_1\\xyphos_1_35.wav: 1 spectrograms extracted\n",
      "✅ train/xyphos_1\\xyphos_1_36.wav: 1 spectrograms extracted\n",
      "✅ train/xyphos_1\\xyphos_1_37.wav: 1 spectrograms extracted\n",
      "✅ train/xyphos_1\\xyphos_1_38.wav: 1 spectrograms extracted\n",
      "✅ train/xyphos_1\\xyphos_1_39.wav: 1 spectrograms extracted\n",
      "✅ train/xyphos_1\\xyphos_1_4.wav: 1 spectrograms extracted\n",
      "✅ train/xyphos_1\\xyphos_1_40.wav: 1 spectrograms extracted\n",
      "✅ train/xyphos_1\\xyphos_1_41.wav: 1 spectrograms extracted\n",
      "✅ train/xyphos_1\\xyphos_1_42.wav: 1 spectrograms extracted\n",
      "✅ train/xyphos_1\\xyphos_1_43.wav: 1 spectrograms extracted\n",
      "✅ train/xyphos_1\\xyphos_1_44.wav: 1 spectrograms extracted\n",
      "✅ train/xyphos_1\\xyphos_1_45.wav: 1 spectrograms extracted\n",
      "✅ train/xyphos_1\\xyphos_1_46.wav: 1 spectrograms extracted\n",
      "✅ train/xyphos_1\\xyphos_1_47.wav: 1 spectrograms extracted\n",
      "✅ train/xyphos_1\\xyphos_1_48.wav: 1 spectrograms extracted\n",
      "✅ train/xyphos_1\\xyphos_1_49.wav: 1 spectrograms extracted\n",
      "✅ train/xyphos_1\\xyphos_1_5.wav: 1 spectrograms extracted\n",
      "✅ train/xyphos_1\\xyphos_1_50.wav: 1 spectrograms extracted\n",
      "✅ train/xyphos_1\\xyphos_1_51.wav: 1 spectrograms extracted\n",
      "✅ train/xyphos_1\\xyphos_1_52.wav: 1 spectrograms extracted\n",
      "✅ train/xyphos_1\\xyphos_1_53.wav: 1 spectrograms extracted\n",
      "✅ train/xyphos_1\\xyphos_1_54.wav: 1 spectrograms extracted\n",
      "✅ train/xyphos_1\\xyphos_1_55.wav: 1 spectrograms extracted\n",
      "✅ train/xyphos_1\\xyphos_1_56.wav: 1 spectrograms extracted\n",
      "✅ train/xyphos_1\\xyphos_1_57.wav: 1 spectrograms extracted\n",
      "✅ train/xyphos_1\\xyphos_1_58.wav: 1 spectrograms extracted\n",
      "✅ train/xyphos_1\\xyphos_1_59.wav: 1 spectrograms extracted\n",
      "✅ train/xyphos_1\\xyphos_1_6.wav: 1 spectrograms extracted\n",
      "✅ train/xyphos_1\\xyphos_1_60.wav: 1 spectrograms extracted\n",
      "✅ train/xyphos_1\\xyphos_1_61.wav: 1 spectrograms extracted\n",
      "✅ train/xyphos_1\\xyphos_1_62.wav: 1 spectrograms extracted\n",
      "✅ train/xyphos_1\\xyphos_1_63.wav: 1 spectrograms extracted\n",
      "✅ train/xyphos_1\\xyphos_1_64.wav: 1 spectrograms extracted\n",
      "✅ train/xyphos_1\\xyphos_1_65.wav: 1 spectrograms extracted\n",
      "✅ train/xyphos_1\\xyphos_1_66.wav: 1 spectrograms extracted\n",
      "✅ train/xyphos_1\\xyphos_1_67.wav: 1 spectrograms extracted\n",
      "✅ train/xyphos_1\\xyphos_1_68.wav: 1 spectrograms extracted\n",
      "✅ train/xyphos_1\\xyphos_1_69.wav: 1 spectrograms extracted\n",
      "✅ train/xyphos_1\\xyphos_1_7.wav: 1 spectrograms extracted\n",
      "✅ train/xyphos_1\\xyphos_1_70.wav: 1 spectrograms extracted\n",
      "✅ train/xyphos_1\\xyphos_1_71.wav: 1 spectrograms extracted\n",
      "✅ train/xyphos_1\\xyphos_1_72.wav: 1 spectrograms extracted\n",
      "✅ train/xyphos_1\\xyphos_1_73.wav: 1 spectrograms extracted\n",
      "✅ train/xyphos_1\\xyphos_1_74.wav: 1 spectrograms extracted\n",
      "✅ train/xyphos_1\\xyphos_1_75.wav: 1 spectrograms extracted\n",
      "✅ train/xyphos_1\\xyphos_1_76.wav: 1 spectrograms extracted\n",
      "✅ train/xyphos_1\\xyphos_1_77.wav: 1 spectrograms extracted\n",
      "✅ train/xyphos_1\\xyphos_1_78.wav: 1 spectrograms extracted\n",
      "✅ train/xyphos_1\\xyphos_1_79.wav: 1 spectrograms extracted\n",
      "✅ train/xyphos_1\\xyphos_1_8.wav: 1 spectrograms extracted\n",
      "✅ train/xyphos_1\\xyphos_1_9.wav: 1 spectrograms extracted\n",
      "✅ train/zephyrion_9\\zephyrion_9_0.wav: 1 spectrograms extracted\n",
      "✅ train/zephyrion_9\\zephyrion_9_1.wav: 1 spectrograms extracted\n",
      "✅ train/zephyrion_9\\zephyrion_9_10.wav: 1 spectrograms extracted\n",
      "✅ train/zephyrion_9\\zephyrion_9_11.wav: 1 spectrograms extracted\n",
      "✅ train/zephyrion_9\\zephyrion_9_12.wav: 1 spectrograms extracted\n",
      "✅ train/zephyrion_9\\zephyrion_9_13.wav: 1 spectrograms extracted\n",
      "✅ train/zephyrion_9\\zephyrion_9_14.wav: 1 spectrograms extracted\n",
      "✅ train/zephyrion_9\\zephyrion_9_15.wav: 1 spectrograms extracted\n",
      "✅ train/zephyrion_9\\zephyrion_9_16.wav: 1 spectrograms extracted\n",
      "✅ train/zephyrion_9\\zephyrion_9_17.wav: 1 spectrograms extracted\n",
      "✅ train/zephyrion_9\\zephyrion_9_18.wav: 1 spectrograms extracted\n",
      "✅ train/zephyrion_9\\zephyrion_9_19.wav: 1 spectrograms extracted\n",
      "✅ train/zephyrion_9\\zephyrion_9_2.wav: 1 spectrograms extracted\n",
      "✅ train/zephyrion_9\\zephyrion_9_20.wav: 1 spectrograms extracted\n",
      "✅ train/zephyrion_9\\zephyrion_9_21.wav: 1 spectrograms extracted\n",
      "✅ train/zephyrion_9\\zephyrion_9_22.wav: 1 spectrograms extracted\n",
      "✅ train/zephyrion_9\\zephyrion_9_23.wav: 1 spectrograms extracted\n",
      "✅ train/zephyrion_9\\zephyrion_9_24.wav: 1 spectrograms extracted\n",
      "✅ train/zephyrion_9\\zephyrion_9_25.wav: 1 spectrograms extracted\n",
      "✅ train/zephyrion_9\\zephyrion_9_26.wav: 1 spectrograms extracted\n",
      "✅ train/zephyrion_9\\zephyrion_9_27.wav: 1 spectrograms extracted\n",
      "✅ train/zephyrion_9\\zephyrion_9_28.wav: 1 spectrograms extracted\n",
      "✅ train/zephyrion_9\\zephyrion_9_29.wav: 1 spectrograms extracted\n",
      "✅ train/zephyrion_9\\zephyrion_9_3.wav: 1 spectrograms extracted\n",
      "✅ train/zephyrion_9\\zephyrion_9_30.wav: 1 spectrograms extracted\n",
      "✅ train/zephyrion_9\\zephyrion_9_31.wav: 1 spectrograms extracted\n",
      "✅ train/zephyrion_9\\zephyrion_9_32.wav: 1 spectrograms extracted\n",
      "✅ train/zephyrion_9\\zephyrion_9_33.wav: 1 spectrograms extracted\n",
      "✅ train/zephyrion_9\\zephyrion_9_34.wav: 1 spectrograms extracted\n",
      "✅ train/zephyrion_9\\zephyrion_9_35.wav: 1 spectrograms extracted\n",
      "✅ train/zephyrion_9\\zephyrion_9_36.wav: 1 spectrograms extracted\n",
      "✅ train/zephyrion_9\\zephyrion_9_37.wav: 1 spectrograms extracted\n",
      "✅ train/zephyrion_9\\zephyrion_9_38.wav: 1 spectrograms extracted\n",
      "✅ train/zephyrion_9\\zephyrion_9_39.wav: 1 spectrograms extracted\n",
      "✅ train/zephyrion_9\\zephyrion_9_4.wav: 1 spectrograms extracted\n",
      "✅ train/zephyrion_9\\zephyrion_9_40.wav: 1 spectrograms extracted\n",
      "✅ train/zephyrion_9\\zephyrion_9_41.wav: 1 spectrograms extracted\n",
      "✅ train/zephyrion_9\\zephyrion_9_42.wav: 1 spectrograms extracted\n",
      "✅ train/zephyrion_9\\zephyrion_9_43.wav: 1 spectrograms extracted\n",
      "✅ train/zephyrion_9\\zephyrion_9_44.wav: 1 spectrograms extracted\n",
      "✅ train/zephyrion_9\\zephyrion_9_45.wav: 1 spectrograms extracted\n",
      "✅ train/zephyrion_9\\zephyrion_9_46.wav: 1 spectrograms extracted\n",
      "✅ train/zephyrion_9\\zephyrion_9_47.wav: 1 spectrograms extracted\n",
      "✅ train/zephyrion_9\\zephyrion_9_48.wav: 1 spectrograms extracted\n",
      "✅ train/zephyrion_9\\zephyrion_9_49.wav: 1 spectrograms extracted\n",
      "✅ train/zephyrion_9\\zephyrion_9_5.wav: 1 spectrograms extracted\n",
      "✅ train/zephyrion_9\\zephyrion_9_50.wav: 1 spectrograms extracted\n",
      "✅ train/zephyrion_9\\zephyrion_9_51.wav: 1 spectrograms extracted\n",
      "✅ train/zephyrion_9\\zephyrion_9_52.wav: 1 spectrograms extracted\n",
      "✅ train/zephyrion_9\\zephyrion_9_53.wav: 1 spectrograms extracted\n",
      "✅ train/zephyrion_9\\zephyrion_9_54.wav: 1 spectrograms extracted\n",
      "✅ train/zephyrion_9\\zephyrion_9_55.wav: 1 spectrograms extracted\n",
      "✅ train/zephyrion_9\\zephyrion_9_56.wav: 1 spectrograms extracted\n",
      "✅ train/zephyrion_9\\zephyrion_9_57.wav: 1 spectrograms extracted\n",
      "✅ train/zephyrion_9\\zephyrion_9_58.wav: 1 spectrograms extracted\n",
      "✅ train/zephyrion_9\\zephyrion_9_59.wav: 1 spectrograms extracted\n",
      "✅ train/zephyrion_9\\zephyrion_9_6.wav: 1 spectrograms extracted\n",
      "✅ train/zephyrion_9\\zephyrion_9_60.wav: 1 spectrograms extracted\n",
      "✅ train/zephyrion_9\\zephyrion_9_61.wav: 1 spectrograms extracted\n",
      "✅ train/zephyrion_9\\zephyrion_9_62.wav: 1 spectrograms extracted\n",
      "✅ train/zephyrion_9\\zephyrion_9_63.wav: 3 spectrograms extracted\n",
      "✅ train/zephyrion_9\\zephyrion_9_64.wav: 1 spectrograms extracted\n",
      "✅ train/zephyrion_9\\zephyrion_9_65.wav: 1 spectrograms extracted\n",
      "✅ train/zephyrion_9\\zephyrion_9_66.wav: 1 spectrograms extracted\n",
      "✅ train/zephyrion_9\\zephyrion_9_67.wav: 1 spectrograms extracted\n",
      "✅ train/zephyrion_9\\zephyrion_9_68.wav: 1 spectrograms extracted\n",
      "✅ train/zephyrion_9\\zephyrion_9_69.wav: 1 spectrograms extracted\n",
      "✅ train/zephyrion_9\\zephyrion_9_7.wav: 1 spectrograms extracted\n",
      "✅ train/zephyrion_9\\zephyrion_9_70.wav: 1 spectrograms extracted\n",
      "✅ train/zephyrion_9\\zephyrion_9_71.wav: 1 spectrograms extracted\n",
      "✅ train/zephyrion_9\\zephyrion_9_72.wav: 1 spectrograms extracted\n",
      "✅ train/zephyrion_9\\zephyrion_9_73.wav: 1 spectrograms extracted\n",
      "✅ train/zephyrion_9\\zephyrion_9_74.wav: 1 spectrograms extracted\n",
      "✅ train/zephyrion_9\\zephyrion_9_75.wav: 1 spectrograms extracted\n",
      "✅ train/zephyrion_9\\zephyrion_9_76.wav: 1 spectrograms extracted\n",
      "✅ train/zephyrion_9\\zephyrion_9_77.wav: 1 spectrograms extracted\n",
      "✅ train/zephyrion_9\\zephyrion_9_78.wav: 1 spectrograms extracted\n",
      "✅ train/zephyrion_9\\zephyrion_9_79.wav: 1 spectrograms extracted\n",
      "✅ train/zephyrion_9\\zephyrion_9_8.wav: 1 spectrograms extracted\n",
      "✅ train/zephyrion_9\\zephyrion_9_9.wav: 1 spectrograms extracted\n",
      "📊 First row of dataset: 0        -16.559553\n",
      "1        -13.071802\n",
      "2        -12.624756\n",
      "3        -12.537632\n",
      "4        -12.562635\n",
      "            ...    \n",
      "120060   -58.368992\n",
      "120061   -54.895985\n",
      "120062   -52.771774\n",
      "120063   -60.635437\n",
      "label      aegir_27\n",
      "Name: 0, Length: 120065, dtype: object\n",
      "✅ Dataset saved to train_dataset.csv with 528 samples.\n"
     ]
    }
   ],
   "source": [
    "process_audio_dataset(train_dir, \"train_dataset.csv\")"
   ]
  },
  {
   "cell_type": "markdown",
   "id": "2c01a347-a194-417d-834f-01c274cd1693",
   "metadata": {},
   "source": [
    "#### Due to large number of features, csv files become inefficient so the csv file is converted to .h5 (HDF5) file using h5py library"
   ]
  },
  {
   "attachments": {},
   "cell_type": "markdown",
   "id": "5d7d1c4f-60ec-4175-95ce-aeb8ed944383",
   "metadata": {},
   "source": [
    "Advantages:\n",
    "1) Optimized for large datasets: HDF5 is very efficient for storing large amounts of data, especially multi-dimensional arrays.\n",
    "2) Supports compression: You can compress data in HDF5, which can help reduce storage requirements.\n",
    "3) Efficient reading/writing: HDF5 is designed for efficient random access to large datasets, which is great for training.\n",
    "4) Widely supported in machine learning frameworks: Libraries like TensorFlow and Keras work well with HDF5 files, making it easy to integrate with your CNN training pipeline."
   ]
  },
  {
   "cell_type": "code",
   "execution_count": 25,
   "id": "d488836a-ed11-4683-b48c-1c5137bb2f60",
   "metadata": {},
   "outputs": [],
   "source": [
    "df = pd.read_csv(\"train_dataset.csv\")"
   ]
  },
  {
   "cell_type": "code",
   "execution_count": 26,
   "id": "6b88d515-1bad-4c4a-af37-7d81eb5438e0",
   "metadata": {},
   "outputs": [],
   "source": [
    "with h5py.File('train_dataset.h5', 'w') as hf:\n",
    "    hf.create_dataset('features', data=df.drop(columns=['label']).values)\n",
    "    hf.create_dataset('labels', data=df['label'].values)"
   ]
  },
  {
   "cell_type": "code",
   "execution_count": 27,
   "id": "e4e2a2b6-82d5-4159-87d7-89ef0e96037b",
   "metadata": {},
   "outputs": [
    {
     "name": "stdout",
     "output_type": "stream",
     "text": [
      "Keys in the file: ['features', 'labels']\n",
      "Dataset shape: (528,)\n",
      "Dataset dtype: object\n",
      "Dataset contents (first 5 elements): [b'aegir_27' b'aegir_27' b'aegir_27' b'aegir_27' b'aegir_27']\n"
     ]
    }
   ],
   "source": [
    "file_path = 'train_dataset.h5' \n",
    "with h5py.File(file_path, 'r') as file:\n",
    "    print(\"Keys in the file:\", list(file.keys()))\n",
    "\n",
    "    dataset_name = 'labels'  \n",
    "    if dataset_name in file:\n",
    "        dataset = file[dataset_name]\n",
    "        print(f\"Dataset shape: {dataset.shape}\")\n",
    "        print(f\"Dataset dtype: {dataset.dtype}\")\n",
    "        print(f\"Dataset contents (first 5 elements): {dataset[:5]}\")"
   ]
  },
  {
   "cell_type": "markdown",
   "id": "bfbc9639-016d-4ea9-bd05-dc47846146d1",
   "metadata": {},
   "source": [
    "#### We'll reshape the dataset to better suit the CNN training process"
   ]
  },
  {
   "cell_type": "markdown",
   "id": "8e59ff80-8d65-419d-9005-577cb4ae4e07",
   "metadata": {},
   "source": [
    "The shape of the features is now (528, 256, 469), which means there are 528 samples, each represented by a 2D array of size (256, 469). This structure is suitable for input into a CNN."
   ]
  },
  {
   "cell_type": "markdown",
   "id": "5b09cb65-3bbf-4ca7-84f9-3ab4e3de686a",
   "metadata": {},
   "source": [
    "The labels are in binary form (e.g. [b'aegir_27...]). The labels are correctly decoded to strings, and we have an array of labels (such as 'aegir_27') corresponding to each sample."
   ]
  },
  {
   "cell_type": "code",
   "execution_count": 31,
   "id": "2693bdf6-83ae-458b-9a47-d6cebd610cba",
   "metadata": {},
   "outputs": [
    {
     "name": "stdout",
     "output_type": "stream",
     "text": [
      "Features dataset shape: (528, 120064)\n",
      "Features dataset dtype: float64\n",
      "Reshaped features shape: (528, 256, 469)\n",
      "Labels dataset shape: (528,)\n",
      "Labels dataset dtype: object\n",
      "Decoded labels (first 5): ['aegir_27', 'aegir_27', 'aegir_27', 'aegir_27', 'aegir_27']\n"
     ]
    }
   ],
   "source": [
    "with h5py.File(file_path, 'r') as file:\n",
    "    features_dataset = file['features']\n",
    "    print(f\"Features dataset shape: {features_dataset.shape}\")\n",
    "    print(f\"Features dataset dtype: {features_dataset.dtype}\")\n",
    "    \n",
    "    reshaped_features = features_dataset[:].reshape(-1, 256, 469)  \n",
    "    print(f\"Reshaped features shape: {reshaped_features.shape}\")\n",
    "\n",
    "    labels_dataset = file['labels']\n",
    "    print(f\"Labels dataset shape: {labels_dataset.shape}\")\n",
    "    print(f\"Labels dataset dtype: {labels_dataset.dtype}\")\n",
    "    \n",
    "    decoded_labels = [label.decode('utf-8') for label in labels_dataset]\n",
    "    print(f\"Decoded labels (first 5): {decoded_labels[:5]}\")"
   ]
  },
  {
   "cell_type": "markdown",
   "id": "dd453b80-6fd7-4ffa-a6ef-d299d1050c7a",
   "metadata": {},
   "source": [
    "### Final steps before building CNN"
   ]
  },
  {
   "cell_type": "markdown",
   "id": "92170cb7-9fad-44a5-821c-3255ba28f5be",
   "metadata": {},
   "source": [
    "#### Processing training set"
   ]
  },
  {
   "cell_type": "code",
   "execution_count": 33,
   "id": "ecaf24ea-270b-4fa8-83b9-c44980eef2c2",
   "metadata": {},
   "outputs": [],
   "source": [
    "file_path = \"train_dataset.h5\"\n",
    "with h5py.File(file_path, 'r') as file:\n",
    "    X = np.array(file[\"features\"]) \n",
    "    y = np.array(file[\"labels\"])"
   ]
  },
  {
   "cell_type": "code",
   "execution_count": 34,
   "id": "a29f8e71-41d9-4e32-97c9-7b4407c37472",
   "metadata": {},
   "outputs": [],
   "source": [
    "unique_labels = np.unique(y)\n",
    "label_to_index = {label: i for i, label in enumerate(unique_labels)}\n",
    "y = np.array([label_to_index[label] for label in y])"
   ]
  },
  {
   "cell_type": "code",
   "execution_count": 186,
   "id": "6db3fc2d-4447-4636-aa84-6c9d50c3153b",
   "metadata": {},
   "outputs": [
    {
     "data": {
      "text/plain": [
       "{b'aegir_27': 0,\n",
       " b'solmara_vi': 1,\n",
       " b'strathea_iv': 2,\n",
       " b'veyrah_theta': 3,\n",
       " b'xyphos_1': 4,\n",
       " b'zephyrion_9': 5}"
      ]
     },
     "execution_count": 186,
     "metadata": {},
     "output_type": "execute_result"
    }
   ],
   "source": [
    "label_to_index"
   ]
  },
  {
   "cell_type": "code",
   "execution_count": 182,
   "id": "e2a8c584-dfe7-4979-8c1f-560b6f00f924",
   "metadata": {},
   "outputs": [
    {
     "data": {
      "text/plain": [
       "array([b'aegir_27', b'solmara_vi', b'strathea_iv', b'veyrah_theta',\n",
       "       b'xyphos_1', b'zephyrion_9'], dtype=object)"
      ]
     },
     "execution_count": 182,
     "metadata": {},
     "output_type": "execute_result"
    }
   ],
   "source": [
    "unique_labels"
   ]
  },
  {
   "cell_type": "markdown",
   "id": "9dad1d48-9ebd-44cc-b67c-6547665c0929",
   "metadata": {},
   "source": [
    "One hot encoding the labels"
   ]
  },
  {
   "cell_type": "code",
   "execution_count": 36,
   "id": "26bd5577-5941-4d9c-a0e0-3a2d02123f03",
   "metadata": {},
   "outputs": [],
   "source": [
    "y = to_categorical(y, num_classes=len(unique_labels))"
   ]
  },
  {
   "cell_type": "code",
   "execution_count": 180,
   "id": "00ce8ad3-a60f-493d-89d1-16fbd2c55a30",
   "metadata": {},
   "outputs": [
    {
     "data": {
      "text/plain": [
       "array([[1., 0., 0., 0., 0., 0.],\n",
       "       [1., 0., 0., 0., 0., 0.],\n",
       "       [1., 0., 0., 0., 0., 0.],\n",
       "       ...,\n",
       "       [0., 0., 0., 0., 0., 1.],\n",
       "       [0., 0., 0., 0., 0., 1.],\n",
       "       [0., 0., 0., 0., 0., 1.]])"
      ]
     },
     "execution_count": 180,
     "metadata": {},
     "output_type": "execute_result"
    }
   ],
   "source": [
    "y"
   ]
  },
  {
   "cell_type": "markdown",
   "id": "4a0ee97e-8caf-4391-99a4-4b6922b3d9f8",
   "metadata": {},
   "source": [
    "Add channels dimension"
   ]
  },
  {
   "cell_type": "code",
   "execution_count": 38,
   "id": "4733c6b1-ced6-442f-92db-19a58ed3be81",
   "metadata": {},
   "outputs": [
    {
     "name": "stdout",
     "output_type": "stream",
     "text": [
      "Final shape of X: (528, 256, 469, 1)\n"
     ]
    }
   ],
   "source": [
    "X = X.reshape(X.shape[0], 256, 469, 1) \n",
    "print(f\"Final shape of X: {X.shape}\")  "
   ]
  },
  {
   "cell_type": "markdown",
   "id": "d81b5a57-aa1c-4198-a164-2e17f2f79d0c",
   "metadata": {},
   "source": [
    "Checking for NaN values and Infinity"
   ]
  },
  {
   "cell_type": "code",
   "execution_count": 88,
   "id": "0debdf1d-1298-4689-81d0-6f80231909b9",
   "metadata": {},
   "outputs": [],
   "source": [
    "X = np.nan_to_num(X, nan=0.0, posinf=0.0, neginf=0.0)"
   ]
  },
  {
   "cell_type": "code",
   "execution_count": 90,
   "id": "10ccb67f-7032-4324-91e8-ec49f8f2d005",
   "metadata": {},
   "outputs": [
    {
     "name": "stdout",
     "output_type": "stream",
     "text": [
      "NaN count after replacement: 0\n",
      "Inf count after replacement: 0\n"
     ]
    }
   ],
   "source": [
    "print(\"NaN count after replacement:\", np.isnan(X).sum())\n",
    "print(\"Inf count after replacement:\", np.isinf(X).sum())"
   ]
  },
  {
   "cell_type": "markdown",
   "id": "11a8c84c-40e2-4584-9be3-d4d2e36a58fb",
   "metadata": {},
   "source": [
    "Scaling using standard scaler"
   ]
  },
  {
   "cell_type": "code",
   "execution_count": 92,
   "id": "0a14274f-9689-45e9-8812-66835742aa3c",
   "metadata": {},
   "outputs": [],
   "source": [
    "X_reshaped = X.reshape(X.shape[0], -1)\n",
    "scaler = StandardScaler()\n",
    "X_scaled = scaler.fit_transform(X_reshaped).reshape(X.shape)"
   ]
  },
  {
   "cell_type": "code",
   "execution_count": 95,
   "id": "38be54e9-5835-4cd5-a78f-85c6ee0355f3",
   "metadata": {},
   "outputs": [
    {
     "name": "stdout",
     "output_type": "stream",
     "text": [
      "NaN count after scaling: 0\n",
      "Inf count after scaling: 0\n"
     ]
    }
   ],
   "source": [
    "print(\"NaN count after scaling:\", np.isnan(X_scaled).sum())\n",
    "print(\"Inf count after scaling:\", np.isinf(X_scaled).sum())"
   ]
  },
  {
   "cell_type": "code",
   "execution_count": 85,
   "id": "c2aad9b0-a8ac-480f-9c3d-9291c8ef193a",
   "metadata": {},
   "outputs": [
    {
     "name": "stdout",
     "output_type": "stream",
     "text": [
      "Zero variance columns: []\n"
     ]
    }
   ],
   "source": [
    "variances = np.var(X_reshaped, axis=0)\n",
    "print(\"Zero variance columns:\", np.where(variances == 0)[0])"
   ]
  },
  {
   "cell_type": "markdown",
   "id": "d76485ff-3748-4ef7-a1b1-d4dd97b98514",
   "metadata": {},
   "source": [
    "#### Train-test splitting"
   ]
  },
  {
   "cell_type": "code",
   "execution_count": 99,
   "id": "3dc2eeea-1dda-47ba-a051-19b1bc62688f",
   "metadata": {},
   "outputs": [
    {
     "name": "stdout",
     "output_type": "stream",
     "text": [
      "Training set: (422, 256, 469, 1), Validation set: (106, 256, 469, 1)\n"
     ]
    }
   ],
   "source": [
    "X_train, X_val, y_train, y_val = train_test_split(X_scaled, y, test_size=0.2, random_state=42)\n",
    "\n",
    "print(f\"Training set: {X_train.shape}, Validation set: {X_val.shape}\")"
   ]
  },
  {
   "cell_type": "markdown",
   "id": "661cea66-5b78-4d54-b94b-da744d62f398",
   "metadata": {},
   "source": [
    "#### Processing testing set"
   ]
  },
  {
   "cell_type": "code",
   "execution_count": 198,
   "id": "2540416d-a25d-45e4-8b82-df3361040342",
   "metadata": {},
   "outputs": [],
   "source": [
    "def extract_test_mel_spectrogram(file_path):\n",
    "    \"\"\"\n",
    "    Extracts Mel spectrograms from audio, handles empty files with a placeholder.\n",
    "    For files longer than 30 seconds, only the first segment is considered.\n",
    "    \"\"\"\n",
    "    try:\n",
    "        y, sr = librosa.load(file_path, sr=16000)\n",
    "\n",
    "        if len(y) == 0:\n",
    "            print(f\"⚠️ Empty file: {file_path}\")\n",
    "            return [np.zeros((FEATURE_SIZE,))]  # Placeholder for empty files\n",
    "\n",
    "        max_length = sr * 30  # 30 seconds\n",
    "        num_segments = max(1, len(y) // max_length)\n",
    "\n",
    "        features = []\n",
    "        \n",
    "        # If the file is longer than 30 seconds, only process the first segment\n",
    "        num_segments = min(num_segments, 1)\n",
    "\n",
    "        for i in range(num_segments):\n",
    "            start, end = i * max_length, min((i + 1) * max_length, len(y))\n",
    "            segment = y[start:end]\n",
    "\n",
    "            if len(segment) < max_length:\n",
    "                segment = np.pad(segment, (0, max_length - len(segment)))\n",
    "\n",
    "            mel_spec = librosa.feature.melspectrogram(y=segment, sr=sr, n_mels=128)\n",
    "            mel_spec = librosa.power_to_db(mel_spec, ref=np.max)\n",
    "            features.append(mel_spec.flatten())\n",
    "\n",
    "        print(f\"✅ {file_path}: {len(features)} spectrograms extracted\")\n",
    "        return features\n",
    "\n",
    "    except Exception as e:\n",
    "        print(f\"❌ Error processing {file_path}: {e}\")\n",
    "        return [np.zeros((FEATURE_SIZE,))]  # Return placeholder on error"
   ]
  },
  {
   "cell_type": "code",
   "execution_count": 200,
   "id": "70e696a6-82c7-41ca-9372-7c7ba0ab7023",
   "metadata": {},
   "outputs": [],
   "source": [
    "def process_test_dataset(data_dir, save_path):\n",
    "    data = []\n",
    "    \n",
    "    for file in os.listdir(data_dir):\n",
    "        file_path = os.path.join(data_dir, file)\n",
    "        mel_features = extract_test_mel_spectrogram(file_path)\n",
    "        for feature in mel_features:\n",
    "            data.append(feature)\n",
    "    \n",
    "    df = pd.DataFrame(data)\n",
    "\n",
    "    if len(df) > 0:\n",
    "        print(\"📊 First row of dataset:\", df.iloc[0])  \n",
    "        df.to_csv(save_path, index=False)\n",
    "        print(f\"✅ Dataset saved to {save_path} with {len(df)} samples.\")\n",
    "    else:\n",
    "        print(\"❌ No data to save! Check audio processing.\")"
   ]
  },
  {
   "cell_type": "code",
   "execution_count": 202,
   "id": "f999dc97-842e-45e4-b5d0-1efb5f1017b0",
   "metadata": {},
   "outputs": [
    {
     "name": "stdout",
     "output_type": "stream",
     "text": [
      "✅ test/sample_001.wav: 1 spectrograms extracted\n",
      "✅ test/sample_002.wav: 1 spectrograms extracted\n",
      "✅ test/sample_003.wav: 1 spectrograms extracted\n",
      "✅ test/sample_004.wav: 1 spectrograms extracted\n",
      "✅ test/sample_005.wav: 1 spectrograms extracted\n",
      "✅ test/sample_006.wav: 1 spectrograms extracted\n",
      "✅ test/sample_007.wav: 1 spectrograms extracted\n",
      "✅ test/sample_008.wav: 1 spectrograms extracted\n",
      "✅ test/sample_009.wav: 1 spectrograms extracted\n",
      "✅ test/sample_010.wav: 1 spectrograms extracted\n",
      "✅ test/sample_011.wav: 1 spectrograms extracted\n",
      "✅ test/sample_012.wav: 1 spectrograms extracted\n",
      "✅ test/sample_013.wav: 1 spectrograms extracted\n",
      "✅ test/sample_014.wav: 1 spectrograms extracted\n",
      "✅ test/sample_015.wav: 1 spectrograms extracted\n",
      "✅ test/sample_016.wav: 1 spectrograms extracted\n",
      "✅ test/sample_017.wav: 1 spectrograms extracted\n",
      "✅ test/sample_018.wav: 1 spectrograms extracted\n",
      "✅ test/sample_019.wav: 1 spectrograms extracted\n",
      "✅ test/sample_020.wav: 1 spectrograms extracted\n",
      "⚠️ Empty file: test/sample_021.wav\n",
      "✅ test/sample_022.wav: 1 spectrograms extracted\n",
      "✅ test/sample_023.wav: 1 spectrograms extracted\n",
      "✅ test/sample_024.wav: 1 spectrograms extracted\n",
      "✅ test/sample_025.wav: 1 spectrograms extracted\n",
      "✅ test/sample_026.wav: 1 spectrograms extracted\n",
      "✅ test/sample_027.wav: 1 spectrograms extracted\n",
      "✅ test/sample_028.wav: 1 spectrograms extracted\n",
      "✅ test/sample_029.wav: 1 spectrograms extracted\n",
      "✅ test/sample_030.wav: 1 spectrograms extracted\n",
      "✅ test/sample_031.wav: 1 spectrograms extracted\n",
      "✅ test/sample_032.wav: 1 spectrograms extracted\n",
      "✅ test/sample_033.wav: 1 spectrograms extracted\n",
      "✅ test/sample_034.wav: 1 spectrograms extracted\n",
      "✅ test/sample_035.wav: 1 spectrograms extracted\n",
      "✅ test/sample_036.wav: 1 spectrograms extracted\n",
      "✅ test/sample_037.wav: 1 spectrograms extracted\n",
      "✅ test/sample_038.wav: 1 spectrograms extracted\n",
      "⚠️ Empty file: test/sample_039.wav\n",
      "✅ test/sample_040.wav: 1 spectrograms extracted\n",
      "✅ test/sample_041.wav: 1 spectrograms extracted\n",
      "✅ test/sample_042.wav: 1 spectrograms extracted\n",
      "✅ test/sample_043.wav: 1 spectrograms extracted\n",
      "✅ test/sample_044.wav: 1 spectrograms extracted\n",
      "✅ test/sample_045.wav: 1 spectrograms extracted\n",
      "✅ test/sample_046.wav: 1 spectrograms extracted\n",
      "✅ test/sample_047.wav: 1 spectrograms extracted\n",
      "✅ test/sample_048.wav: 1 spectrograms extracted\n",
      "✅ test/sample_049.wav: 1 spectrograms extracted\n",
      "✅ test/sample_050.wav: 1 spectrograms extracted\n",
      "✅ test/sample_051.wav: 1 spectrograms extracted\n",
      "✅ test/sample_052.wav: 1 spectrograms extracted\n",
      "✅ test/sample_053.wav: 1 spectrograms extracted\n",
      "✅ test/sample_054.wav: 1 spectrograms extracted\n",
      "✅ test/sample_055.wav: 1 spectrograms extracted\n",
      "✅ test/sample_056.wav: 1 spectrograms extracted\n",
      "✅ test/sample_057.wav: 1 spectrograms extracted\n",
      "✅ test/sample_058.wav: 1 spectrograms extracted\n",
      "✅ test/sample_059.wav: 1 spectrograms extracted\n",
      "✅ test/sample_060.wav: 1 spectrograms extracted\n",
      "✅ test/sample_061.wav: 1 spectrograms extracted\n",
      "✅ test/sample_062.wav: 1 spectrograms extracted\n",
      "✅ test/sample_063.wav: 1 spectrograms extracted\n",
      "✅ test/sample_064.wav: 1 spectrograms extracted\n",
      "✅ test/sample_065.wav: 1 spectrograms extracted\n",
      "✅ test/sample_066.wav: 1 spectrograms extracted\n",
      "✅ test/sample_067.wav: 1 spectrograms extracted\n",
      "✅ test/sample_068.wav: 1 spectrograms extracted\n",
      "✅ test/sample_069.wav: 1 spectrograms extracted\n",
      "✅ test/sample_070.wav: 1 spectrograms extracted\n",
      "✅ test/sample_071.wav: 1 spectrograms extracted\n",
      "✅ test/sample_072.wav: 1 spectrograms extracted\n",
      "✅ test/sample_073.wav: 1 spectrograms extracted\n",
      "✅ test/sample_074.wav: 1 spectrograms extracted\n",
      "✅ test/sample_075.wav: 1 spectrograms extracted\n",
      "✅ test/sample_076.wav: 1 spectrograms extracted\n",
      "✅ test/sample_077.wav: 1 spectrograms extracted\n",
      "✅ test/sample_078.wav: 1 spectrograms extracted\n",
      "✅ test/sample_079.wav: 1 spectrograms extracted\n",
      "✅ test/sample_080.wav: 1 spectrograms extracted\n",
      "✅ test/sample_081.wav: 1 spectrograms extracted\n",
      "✅ test/sample_082.wav: 1 spectrograms extracted\n",
      "✅ test/sample_083.wav: 1 spectrograms extracted\n",
      "✅ test/sample_084.wav: 1 spectrograms extracted\n",
      "✅ test/sample_085.wav: 1 spectrograms extracted\n",
      "✅ test/sample_086.wav: 1 spectrograms extracted\n",
      "✅ test/sample_087.wav: 1 spectrograms extracted\n",
      "✅ test/sample_088.wav: 1 spectrograms extracted\n",
      "✅ test/sample_089.wav: 1 spectrograms extracted\n",
      "✅ test/sample_090.wav: 1 spectrograms extracted\n",
      "✅ test/sample_091.wav: 1 spectrograms extracted\n",
      "✅ test/sample_092.wav: 1 spectrograms extracted\n",
      "✅ test/sample_093.wav: 1 spectrograms extracted\n",
      "✅ test/sample_094.wav: 1 spectrograms extracted\n",
      "✅ test/sample_095.wav: 1 spectrograms extracted\n",
      "✅ test/sample_096.wav: 1 spectrograms extracted\n",
      "✅ test/sample_097.wav: 1 spectrograms extracted\n",
      "✅ test/sample_098.wav: 1 spectrograms extracted\n",
      "✅ test/sample_099.wav: 1 spectrograms extracted\n",
      "✅ test/sample_100.wav: 1 spectrograms extracted\n",
      "✅ test/sample_101.wav: 1 spectrograms extracted\n",
      "✅ test/sample_102.wav: 1 spectrograms extracted\n",
      "✅ test/sample_103.wav: 1 spectrograms extracted\n",
      "✅ test/sample_104.wav: 1 spectrograms extracted\n",
      "✅ test/sample_105.wav: 1 spectrograms extracted\n",
      "✅ test/sample_106.wav: 1 spectrograms extracted\n",
      "✅ test/sample_107.wav: 1 spectrograms extracted\n",
      "✅ test/sample_108.wav: 1 spectrograms extracted\n",
      "✅ test/sample_109.wav: 1 spectrograms extracted\n",
      "✅ test/sample_110.wav: 1 spectrograms extracted\n",
      "✅ test/sample_111.wav: 1 spectrograms extracted\n",
      "✅ test/sample_112.wav: 1 spectrograms extracted\n",
      "✅ test/sample_113.wav: 1 spectrograms extracted\n",
      "✅ test/sample_114.wav: 1 spectrograms extracted\n",
      "✅ test/sample_115.wav: 1 spectrograms extracted\n",
      "✅ test/sample_116.wav: 1 spectrograms extracted\n",
      "✅ test/sample_117.wav: 1 spectrograms extracted\n",
      "✅ test/sample_118.wav: 1 spectrograms extracted\n",
      "✅ test/sample_119.wav: 1 spectrograms extracted\n",
      "✅ test/sample_120.wav: 1 spectrograms extracted\n",
      "📊 First row of dataset: 0        -35.373680\n",
      "1        -40.787170\n",
      "2        -44.335407\n",
      "3        -44.834808\n",
      "4        -38.844788\n",
      "            ...    \n",
      "120059   -49.231346\n",
      "120060   -52.676216\n",
      "120061   -56.906918\n",
      "120062   -45.974201\n",
      "120063   -44.615868\n",
      "Name: 0, Length: 120064, dtype: float64\n",
      "✅ Dataset saved to test_dataset.csv with 120 samples.\n"
     ]
    }
   ],
   "source": [
    "process_test_dataset(test_dir, \"test_dataset.csv\")"
   ]
  },
  {
   "cell_type": "code",
   "execution_count": 204,
   "id": "1cb6416a-4eb9-497d-a286-281d5929b071",
   "metadata": {},
   "outputs": [],
   "source": [
    "tdf = pd.read_csv(\"test_dataset.csv\")"
   ]
  },
  {
   "cell_type": "code",
   "execution_count": 206,
   "id": "27307854-3328-4b79-bdf7-4e710b0e9437",
   "metadata": {},
   "outputs": [],
   "source": [
    "with h5py.File('test_dataset.h5', 'w') as hf:\n",
    "    hf.create_dataset('features', data=tdf.values)"
   ]
  },
  {
   "cell_type": "code",
   "execution_count": 208,
   "id": "9c23c988-b51b-4cc8-8988-8869dd095d3d",
   "metadata": {},
   "outputs": [
    {
     "name": "stdout",
     "output_type": "stream",
     "text": [
      "Keys in the file: ['features']\n",
      "(120, 120064)\n",
      "Dataset shape: (120, 120064)\n",
      "Dataset dtype: float64\n",
      "Dataset contents (first 5 elements): [[-35.37368011 -40.78717041 -44.33540726 ... -56.90691757 -45.9742012\n",
      "  -44.61586761]\n",
      " [-46.02172852 -45.13357544 -46.42724609 ... -60.46498871 -65.21768188\n",
      "  -56.02202606]\n",
      " [-34.56647491 -33.95949554 -32.14589691 ... -41.91710281 -45.1299324\n",
      "  -51.14447403]\n",
      " [-38.57144928 -38.9967041  -42.0949707  ... -47.98118973 -49.95967102\n",
      "  -46.78057861]\n",
      " [-39.484478   -41.15600586 -42.4562912  ... -80.         -80.\n",
      "  -80.        ]]\n"
     ]
    }
   ],
   "source": [
    "file_path = 'test_dataset.h5' \n",
    "with h5py.File(file_path, 'r') as file:\n",
    "    X_test = np.array(file[\"features\"])\n",
    "    print(\"Keys in the file:\", list(file.keys()))\n",
    "    print(X_test.shape)\n",
    "\n",
    "    dataset_name = 'features'  \n",
    "    if dataset_name in file:\n",
    "        dataset = file[dataset_name]\n",
    "        print(f\"Dataset shape: {dataset.shape}\")\n",
    "        print(f\"Dataset dtype: {dataset.dtype}\")\n",
    "        print(f\"Dataset contents (first 5 elements): {dataset[:5]}\")"
   ]
  },
  {
   "cell_type": "markdown",
   "id": "5648ebca-ba71-4860-8c84-41ba58c5d8ff",
   "metadata": {},
   "source": [
    "Reshaping to fit the training set shape"
   ]
  },
  {
   "cell_type": "code",
   "execution_count": 210,
   "id": "31f968a4-ae86-4937-9945-19174bc89ea8",
   "metadata": {},
   "outputs": [
    {
     "data": {
      "text/plain": [
       "(120, 256, 469, 1)"
      ]
     },
     "execution_count": 210,
     "metadata": {},
     "output_type": "execute_result"
    }
   ],
   "source": [
    "X_test = X_test.reshape(X_test.shape[0], 256, 469, 1)\n",
    "X_test.shape"
   ]
  },
  {
   "cell_type": "markdown",
   "id": "c153ad0d-581d-4eba-a874-d1174c946996",
   "metadata": {},
   "source": [
    "Checking for and getting rid of NaN and infinity"
   ]
  },
  {
   "cell_type": "code",
   "execution_count": 212,
   "id": "900e0db0-4c80-4022-916f-d13907b4d0ed",
   "metadata": {},
   "outputs": [
    {
     "data": {
      "text/plain": [
       "0"
      ]
     },
     "execution_count": 212,
     "metadata": {},
     "output_type": "execute_result"
    }
   ],
   "source": [
    "X_test = np.nan_to_num(X_test, nan=0.0, posinf=0.0, neginf=0.0)\n",
    "np.isnan(X_test).sum()"
   ]
  },
  {
   "cell_type": "markdown",
   "id": "f53bee79-1dcc-4a21-855d-5d28a2024289",
   "metadata": {},
   "source": [
    "Scaling values using standard scaler"
   ]
  },
  {
   "cell_type": "code",
   "execution_count": 214,
   "id": "945a387d-7fc5-4672-aab6-b8c7c785f91e",
   "metadata": {},
   "outputs": [],
   "source": [
    "X_test_reshaped = X_test.reshape(X_test.shape[0], -1)\n",
    "scaler = StandardScaler()\n",
    "X_test_scaled = scaler.fit_transform(X_test_reshaped).reshape(X_test.shape)"
   ]
  },
  {
   "cell_type": "code",
   "execution_count": 216,
   "id": "30001af7-57f7-436a-8083-4321b312638b",
   "metadata": {},
   "outputs": [
    {
     "name": "stdout",
     "output_type": "stream",
     "text": [
      "NaN count after scaling: 0\n",
      "Inf count after scaling: 0\n"
     ]
    }
   ],
   "source": [
    "print(\"NaN count after scaling:\", np.isnan(X_test_scaled).sum())\n",
    "print(\"Inf count after scaling:\", np.isinf(X_test_scaled).sum())"
   ]
  },
  {
   "cell_type": "code",
   "execution_count": 218,
   "id": "6abc93f3-d46a-48fb-8a81-5c21970c9b3a",
   "metadata": {},
   "outputs": [
    {
     "name": "stdout",
     "output_type": "stream",
     "text": [
      "Zero variance columns: []\n"
     ]
    }
   ],
   "source": [
    "test_variances = np.var(X_test_reshaped, axis=0)\n",
    "print(\"Zero variance columns:\", np.where(test_variances == 0)[0])"
   ]
  },
  {
   "cell_type": "markdown",
   "id": "96383f52-8df3-46f7-8ef4-383da7536c3f",
   "metadata": {},
   "source": [
    "# Building the CNN"
   ]
  },
  {
   "cell_type": "code",
   "execution_count": 168,
   "id": "5d9ae380-c21f-4e1f-96eb-81ce7f49f6b4",
   "metadata": {},
   "outputs": [],
   "source": [
    "def residual_block(x, filters, kernel_size=(3, 3), downsample=False, dropout_rate=0.3):\n",
    "    shortcut = x  \n",
    "    stride = (2, 2) if downsample else (1, 1)\n",
    "\n",
    "    # First convolution layer with L2 regularization\n",
    "    x = layers.Conv2D(filters, kernel_size, strides=stride, padding='same',\n",
    "                      kernel_regularizer=regularizers.l2(0.0001))(x)\n",
    "    x = layers.BatchNormalization()(x)\n",
    "    x = layers.ReLU()(x)\n",
    "\n",
    "    # Second convolution layer with L2 regularization\n",
    "    x = layers.Conv2D(filters, kernel_size, strides=(1, 1), padding='same',\n",
    "                      kernel_regularizer=regularizers.l2(0.0001))(x)\n",
    "    x = layers.BatchNormalization()(x)\n",
    "\n",
    "    # Match the shortcut dimensions when downsampling\n",
    "    if shortcut.shape[-1] != filters or downsample:\n",
    "        shortcut = layers.Conv2D(filters, (1, 1), strides=stride, padding='same',\n",
    "                                 kernel_regularizer=regularizers.l2(0.0001))(shortcut)\n",
    "        shortcut = layers.BatchNormalization()(shortcut)\n",
    "\n",
    "    # Add the shortcut and apply activation\n",
    "    x = layers.Add()([x, shortcut])\n",
    "    x = layers.ReLU()(x)\n",
    "\n",
    "    # Dropout for regularization\n",
    "    x = layers.Dropout(dropout_rate)(x)\n",
    "\n",
    "    return x"
   ]
  },
  {
   "cell_type": "code",
   "execution_count": 170,
   "id": "463387ab-c093-4f1c-a15d-f2a8ec0a384a",
   "metadata": {},
   "outputs": [],
   "source": [
    "def build_resnet(input_shape, num_classes):\n",
    "    inputs = layers.Input(shape=input_shape)\n",
    "\n",
    "    # Initial Convolutional Layer\n",
    "    x = layers.Conv2D(32, kernel_size=3, strides=2, padding='same',\n",
    "                      kernel_regularizer=regularizers.l2(0.0001))(inputs)\n",
    "    x = layers.BatchNormalization()(x)\n",
    "    x = layers.ReLU()(x)\n",
    "\n",
    "    # Residual Blocks with Downsampling and Dropout\n",
    "    x = residual_block(x, 32)\n",
    "    x = residual_block(x, 64, downsample=True)\n",
    "    x = residual_block(x, 128, downsample=True)\n",
    "    x = residual_block(x, 256, downsample=True)\n",
    "\n",
    "    # Global Average Pooling\n",
    "    x = layers.GlobalAveragePooling2D()(x)\n",
    "\n",
    "    # Dropout for additional regularization before the output layer\n",
    "    x = layers.Dropout(0.4)(x)\n",
    "\n",
    "    # Output Layer\n",
    "    outputs = layers.Dense(num_classes, activation='softmax')(x)\n",
    "\n",
    "    model = models.Model(inputs, outputs)\n",
    "\n",
    "    return model"
   ]
  },
  {
   "cell_type": "code",
   "execution_count": 158,
   "id": "0401f074-3f31-4a85-9ea0-8966b6e3bccb",
   "metadata": {
    "scrolled": true
   },
   "outputs": [
    {
     "data": {
      "text/html": [
       "<pre style=\"white-space:pre;overflow-x:auto;line-height:normal;font-family:Menlo,'DejaVu Sans Mono',consolas,'Courier New',monospace\"><span style=\"font-weight: bold\">Model: \"functional_157\"</span>\n",
       "</pre>\n"
      ],
      "text/plain": [
       "\u001b[1mModel: \"functional_157\"\u001b[0m\n"
      ]
     },
     "metadata": {},
     "output_type": "display_data"
    },
    {
     "data": {
      "text/html": [
       "<pre style=\"white-space:pre;overflow-x:auto;line-height:normal;font-family:Menlo,'DejaVu Sans Mono',consolas,'Courier New',monospace\">┏━━━━━━━━━━━━━━━━━━━━━┳━━━━━━━━━━━━━━━━━━━┳━━━━━━━━━━━━┳━━━━━━━━━━━━━━━━━━━┓\n",
       "┃<span style=\"font-weight: bold\"> Layer (type)        </span>┃<span style=\"font-weight: bold\"> Output Shape      </span>┃<span style=\"font-weight: bold\">    Param # </span>┃<span style=\"font-weight: bold\"> Connected to      </span>┃\n",
       "┡━━━━━━━━━━━━━━━━━━━━━╇━━━━━━━━━━━━━━━━━━━╇━━━━━━━━━━━━╇━━━━━━━━━━━━━━━━━━━┩\n",
       "│ input_layer_14      │ (<span style=\"color: #00d7ff; text-decoration-color: #00d7ff\">None</span>, <span style=\"color: #00af00; text-decoration-color: #00af00\">256</span>, <span style=\"color: #00af00; text-decoration-color: #00af00\">469</span>,  │          <span style=\"color: #00af00; text-decoration-color: #00af00\">0</span> │ -                 │\n",
       "│ (<span style=\"color: #0087ff; text-decoration-color: #0087ff\">InputLayer</span>)        │ <span style=\"color: #00af00; text-decoration-color: #00af00\">1</span>)                │            │                   │\n",
       "├─────────────────────┼───────────────────┼────────────┼───────────────────┤\n",
       "│ conv2d_53 (<span style=\"color: #0087ff; text-decoration-color: #0087ff\">Conv2D</span>)  │ (<span style=\"color: #00d7ff; text-decoration-color: #00d7ff\">None</span>, <span style=\"color: #00af00; text-decoration-color: #00af00\">128</span>, <span style=\"color: #00af00; text-decoration-color: #00af00\">235</span>,  │        <span style=\"color: #00af00; text-decoration-color: #00af00\">320</span> │ input_layer_14[<span style=\"color: #00af00; text-decoration-color: #00af00\">0</span>… │\n",
       "│                     │ <span style=\"color: #00af00; text-decoration-color: #00af00\">32</span>)               │            │                   │\n",
       "├─────────────────────┼───────────────────┼────────────┼───────────────────┤\n",
       "│ batch_normalizatio… │ (<span style=\"color: #00d7ff; text-decoration-color: #00d7ff\">None</span>, <span style=\"color: #00af00; text-decoration-color: #00af00\">128</span>, <span style=\"color: #00af00; text-decoration-color: #00af00\">235</span>,  │        <span style=\"color: #00af00; text-decoration-color: #00af00\">128</span> │ conv2d_53[<span style=\"color: #00af00; text-decoration-color: #00af00\">0</span>][<span style=\"color: #00af00; text-decoration-color: #00af00\">0</span>]   │\n",
       "│ (<span style=\"color: #0087ff; text-decoration-color: #0087ff\">BatchNormalizatio…</span> │ <span style=\"color: #00af00; text-decoration-color: #00af00\">32</span>)               │            │                   │\n",
       "├─────────────────────┼───────────────────┼────────────┼───────────────────┤\n",
       "│ re_lu_13 (<span style=\"color: #0087ff; text-decoration-color: #0087ff\">ReLU</span>)     │ (<span style=\"color: #00d7ff; text-decoration-color: #00d7ff\">None</span>, <span style=\"color: #00af00; text-decoration-color: #00af00\">128</span>, <span style=\"color: #00af00; text-decoration-color: #00af00\">235</span>,  │          <span style=\"color: #00af00; text-decoration-color: #00af00\">0</span> │ batch_normalizat… │\n",
       "│                     │ <span style=\"color: #00af00; text-decoration-color: #00af00\">32</span>)               │            │                   │\n",
       "├─────────────────────┼───────────────────┼────────────┼───────────────────┤\n",
       "│ conv2d_54 (<span style=\"color: #0087ff; text-decoration-color: #0087ff\">Conv2D</span>)  │ (<span style=\"color: #00d7ff; text-decoration-color: #00d7ff\">None</span>, <span style=\"color: #00af00; text-decoration-color: #00af00\">128</span>, <span style=\"color: #00af00; text-decoration-color: #00af00\">235</span>,  │      <span style=\"color: #00af00; text-decoration-color: #00af00\">9,248</span> │ re_lu_13[<span style=\"color: #00af00; text-decoration-color: #00af00\">0</span>][<span style=\"color: #00af00; text-decoration-color: #00af00\">0</span>]    │\n",
       "│                     │ <span style=\"color: #00af00; text-decoration-color: #00af00\">32</span>)               │            │                   │\n",
       "├─────────────────────┼───────────────────┼────────────┼───────────────────┤\n",
       "│ batch_normalizatio… │ (<span style=\"color: #00d7ff; text-decoration-color: #00d7ff\">None</span>, <span style=\"color: #00af00; text-decoration-color: #00af00\">128</span>, <span style=\"color: #00af00; text-decoration-color: #00af00\">235</span>,  │        <span style=\"color: #00af00; text-decoration-color: #00af00\">128</span> │ conv2d_54[<span style=\"color: #00af00; text-decoration-color: #00af00\">0</span>][<span style=\"color: #00af00; text-decoration-color: #00af00\">0</span>]   │\n",
       "│ (<span style=\"color: #0087ff; text-decoration-color: #0087ff\">BatchNormalizatio…</span> │ <span style=\"color: #00af00; text-decoration-color: #00af00\">32</span>)               │            │                   │\n",
       "├─────────────────────┼───────────────────┼────────────┼───────────────────┤\n",
       "│ re_lu_14 (<span style=\"color: #0087ff; text-decoration-color: #0087ff\">ReLU</span>)     │ (<span style=\"color: #00d7ff; text-decoration-color: #00d7ff\">None</span>, <span style=\"color: #00af00; text-decoration-color: #00af00\">128</span>, <span style=\"color: #00af00; text-decoration-color: #00af00\">235</span>,  │          <span style=\"color: #00af00; text-decoration-color: #00af00\">0</span> │ batch_normalizat… │\n",
       "│                     │ <span style=\"color: #00af00; text-decoration-color: #00af00\">32</span>)               │            │                   │\n",
       "├─────────────────────┼───────────────────┼────────────┼───────────────────┤\n",
       "│ conv2d_55 (<span style=\"color: #0087ff; text-decoration-color: #0087ff\">Conv2D</span>)  │ (<span style=\"color: #00d7ff; text-decoration-color: #00d7ff\">None</span>, <span style=\"color: #00af00; text-decoration-color: #00af00\">128</span>, <span style=\"color: #00af00; text-decoration-color: #00af00\">235</span>,  │      <span style=\"color: #00af00; text-decoration-color: #00af00\">9,248</span> │ re_lu_14[<span style=\"color: #00af00; text-decoration-color: #00af00\">0</span>][<span style=\"color: #00af00; text-decoration-color: #00af00\">0</span>]    │\n",
       "│                     │ <span style=\"color: #00af00; text-decoration-color: #00af00\">32</span>)               │            │                   │\n",
       "├─────────────────────┼───────────────────┼────────────┼───────────────────┤\n",
       "│ batch_normalizatio… │ (<span style=\"color: #00d7ff; text-decoration-color: #00d7ff\">None</span>, <span style=\"color: #00af00; text-decoration-color: #00af00\">128</span>, <span style=\"color: #00af00; text-decoration-color: #00af00\">235</span>,  │        <span style=\"color: #00af00; text-decoration-color: #00af00\">128</span> │ conv2d_55[<span style=\"color: #00af00; text-decoration-color: #00af00\">0</span>][<span style=\"color: #00af00; text-decoration-color: #00af00\">0</span>]   │\n",
       "│ (<span style=\"color: #0087ff; text-decoration-color: #0087ff\">BatchNormalizatio…</span> │ <span style=\"color: #00af00; text-decoration-color: #00af00\">32</span>)               │            │                   │\n",
       "├─────────────────────┼───────────────────┼────────────┼───────────────────┤\n",
       "│ add_6 (<span style=\"color: #0087ff; text-decoration-color: #0087ff\">Add</span>)         │ (<span style=\"color: #00d7ff; text-decoration-color: #00d7ff\">None</span>, <span style=\"color: #00af00; text-decoration-color: #00af00\">128</span>, <span style=\"color: #00af00; text-decoration-color: #00af00\">235</span>,  │          <span style=\"color: #00af00; text-decoration-color: #00af00\">0</span> │ batch_normalizat… │\n",
       "│                     │ <span style=\"color: #00af00; text-decoration-color: #00af00\">32</span>)               │            │ re_lu_13[<span style=\"color: #00af00; text-decoration-color: #00af00\">0</span>][<span style=\"color: #00af00; text-decoration-color: #00af00\">0</span>]    │\n",
       "├─────────────────────┼───────────────────┼────────────┼───────────────────┤\n",
       "│ re_lu_15 (<span style=\"color: #0087ff; text-decoration-color: #0087ff\">ReLU</span>)     │ (<span style=\"color: #00d7ff; text-decoration-color: #00d7ff\">None</span>, <span style=\"color: #00af00; text-decoration-color: #00af00\">128</span>, <span style=\"color: #00af00; text-decoration-color: #00af00\">235</span>,  │          <span style=\"color: #00af00; text-decoration-color: #00af00\">0</span> │ add_6[<span style=\"color: #00af00; text-decoration-color: #00af00\">0</span>][<span style=\"color: #00af00; text-decoration-color: #00af00\">0</span>]       │\n",
       "│                     │ <span style=\"color: #00af00; text-decoration-color: #00af00\">32</span>)               │            │                   │\n",
       "├─────────────────────┼───────────────────┼────────────┼───────────────────┤\n",
       "│ conv2d_56 (<span style=\"color: #0087ff; text-decoration-color: #0087ff\">Conv2D</span>)  │ (<span style=\"color: #00d7ff; text-decoration-color: #00d7ff\">None</span>, <span style=\"color: #00af00; text-decoration-color: #00af00\">64</span>, <span style=\"color: #00af00; text-decoration-color: #00af00\">118</span>,   │     <span style=\"color: #00af00; text-decoration-color: #00af00\">18,496</span> │ re_lu_15[<span style=\"color: #00af00; text-decoration-color: #00af00\">0</span>][<span style=\"color: #00af00; text-decoration-color: #00af00\">0</span>]    │\n",
       "│                     │ <span style=\"color: #00af00; text-decoration-color: #00af00\">64</span>)               │            │                   │\n",
       "├─────────────────────┼───────────────────┼────────────┼───────────────────┤\n",
       "│ batch_normalizatio… │ (<span style=\"color: #00d7ff; text-decoration-color: #00d7ff\">None</span>, <span style=\"color: #00af00; text-decoration-color: #00af00\">64</span>, <span style=\"color: #00af00; text-decoration-color: #00af00\">118</span>,   │        <span style=\"color: #00af00; text-decoration-color: #00af00\">256</span> │ conv2d_56[<span style=\"color: #00af00; text-decoration-color: #00af00\">0</span>][<span style=\"color: #00af00; text-decoration-color: #00af00\">0</span>]   │\n",
       "│ (<span style=\"color: #0087ff; text-decoration-color: #0087ff\">BatchNormalizatio…</span> │ <span style=\"color: #00af00; text-decoration-color: #00af00\">64</span>)               │            │                   │\n",
       "├─────────────────────┼───────────────────┼────────────┼───────────────────┤\n",
       "│ re_lu_16 (<span style=\"color: #0087ff; text-decoration-color: #0087ff\">ReLU</span>)     │ (<span style=\"color: #00d7ff; text-decoration-color: #00d7ff\">None</span>, <span style=\"color: #00af00; text-decoration-color: #00af00\">64</span>, <span style=\"color: #00af00; text-decoration-color: #00af00\">118</span>,   │          <span style=\"color: #00af00; text-decoration-color: #00af00\">0</span> │ batch_normalizat… │\n",
       "│                     │ <span style=\"color: #00af00; text-decoration-color: #00af00\">64</span>)               │            │                   │\n",
       "├─────────────────────┼───────────────────┼────────────┼───────────────────┤\n",
       "│ conv2d_57 (<span style=\"color: #0087ff; text-decoration-color: #0087ff\">Conv2D</span>)  │ (<span style=\"color: #00d7ff; text-decoration-color: #00d7ff\">None</span>, <span style=\"color: #00af00; text-decoration-color: #00af00\">64</span>, <span style=\"color: #00af00; text-decoration-color: #00af00\">118</span>,   │     <span style=\"color: #00af00; text-decoration-color: #00af00\">36,928</span> │ re_lu_16[<span style=\"color: #00af00; text-decoration-color: #00af00\">0</span>][<span style=\"color: #00af00; text-decoration-color: #00af00\">0</span>]    │\n",
       "│                     │ <span style=\"color: #00af00; text-decoration-color: #00af00\">64</span>)               │            │                   │\n",
       "├─────────────────────┼───────────────────┼────────────┼───────────────────┤\n",
       "│ batch_normalizatio… │ (<span style=\"color: #00d7ff; text-decoration-color: #00d7ff\">None</span>, <span style=\"color: #00af00; text-decoration-color: #00af00\">64</span>, <span style=\"color: #00af00; text-decoration-color: #00af00\">118</span>,   │        <span style=\"color: #00af00; text-decoration-color: #00af00\">256</span> │ conv2d_57[<span style=\"color: #00af00; text-decoration-color: #00af00\">0</span>][<span style=\"color: #00af00; text-decoration-color: #00af00\">0</span>]   │\n",
       "│ (<span style=\"color: #0087ff; text-decoration-color: #0087ff\">BatchNormalizatio…</span> │ <span style=\"color: #00af00; text-decoration-color: #00af00\">64</span>)               │            │                   │\n",
       "├─────────────────────┼───────────────────┼────────────┼───────────────────┤\n",
       "│ conv2d_58 (<span style=\"color: #0087ff; text-decoration-color: #0087ff\">Conv2D</span>)  │ (<span style=\"color: #00d7ff; text-decoration-color: #00d7ff\">None</span>, <span style=\"color: #00af00; text-decoration-color: #00af00\">64</span>, <span style=\"color: #00af00; text-decoration-color: #00af00\">118</span>,   │      <span style=\"color: #00af00; text-decoration-color: #00af00\">2,112</span> │ re_lu_15[<span style=\"color: #00af00; text-decoration-color: #00af00\">0</span>][<span style=\"color: #00af00; text-decoration-color: #00af00\">0</span>]    │\n",
       "│                     │ <span style=\"color: #00af00; text-decoration-color: #00af00\">64</span>)               │            │                   │\n",
       "├─────────────────────┼───────────────────┼────────────┼───────────────────┤\n",
       "│ add_7 (<span style=\"color: #0087ff; text-decoration-color: #0087ff\">Add</span>)         │ (<span style=\"color: #00d7ff; text-decoration-color: #00d7ff\">None</span>, <span style=\"color: #00af00; text-decoration-color: #00af00\">64</span>, <span style=\"color: #00af00; text-decoration-color: #00af00\">118</span>,   │          <span style=\"color: #00af00; text-decoration-color: #00af00\">0</span> │ batch_normalizat… │\n",
       "│                     │ <span style=\"color: #00af00; text-decoration-color: #00af00\">64</span>)               │            │ conv2d_58[<span style=\"color: #00af00; text-decoration-color: #00af00\">0</span>][<span style=\"color: #00af00; text-decoration-color: #00af00\">0</span>]   │\n",
       "├─────────────────────┼───────────────────┼────────────┼───────────────────┤\n",
       "│ re_lu_17 (<span style=\"color: #0087ff; text-decoration-color: #0087ff\">ReLU</span>)     │ (<span style=\"color: #00d7ff; text-decoration-color: #00d7ff\">None</span>, <span style=\"color: #00af00; text-decoration-color: #00af00\">64</span>, <span style=\"color: #00af00; text-decoration-color: #00af00\">118</span>,   │          <span style=\"color: #00af00; text-decoration-color: #00af00\">0</span> │ add_7[<span style=\"color: #00af00; text-decoration-color: #00af00\">0</span>][<span style=\"color: #00af00; text-decoration-color: #00af00\">0</span>]       │\n",
       "│                     │ <span style=\"color: #00af00; text-decoration-color: #00af00\">64</span>)               │            │                   │\n",
       "├─────────────────────┼───────────────────┼────────────┼───────────────────┤\n",
       "│ conv2d_59 (<span style=\"color: #0087ff; text-decoration-color: #0087ff\">Conv2D</span>)  │ (<span style=\"color: #00d7ff; text-decoration-color: #00d7ff\">None</span>, <span style=\"color: #00af00; text-decoration-color: #00af00\">32</span>, <span style=\"color: #00af00; text-decoration-color: #00af00\">59</span>,    │     <span style=\"color: #00af00; text-decoration-color: #00af00\">73,856</span> │ re_lu_17[<span style=\"color: #00af00; text-decoration-color: #00af00\">0</span>][<span style=\"color: #00af00; text-decoration-color: #00af00\">0</span>]    │\n",
       "│                     │ <span style=\"color: #00af00; text-decoration-color: #00af00\">128</span>)              │            │                   │\n",
       "├─────────────────────┼───────────────────┼────────────┼───────────────────┤\n",
       "│ batch_normalizatio… │ (<span style=\"color: #00d7ff; text-decoration-color: #00d7ff\">None</span>, <span style=\"color: #00af00; text-decoration-color: #00af00\">32</span>, <span style=\"color: #00af00; text-decoration-color: #00af00\">59</span>,    │        <span style=\"color: #00af00; text-decoration-color: #00af00\">512</span> │ conv2d_59[<span style=\"color: #00af00; text-decoration-color: #00af00\">0</span>][<span style=\"color: #00af00; text-decoration-color: #00af00\">0</span>]   │\n",
       "│ (<span style=\"color: #0087ff; text-decoration-color: #0087ff\">BatchNormalizatio…</span> │ <span style=\"color: #00af00; text-decoration-color: #00af00\">128</span>)              │            │                   │\n",
       "├─────────────────────┼───────────────────┼────────────┼───────────────────┤\n",
       "│ re_lu_18 (<span style=\"color: #0087ff; text-decoration-color: #0087ff\">ReLU</span>)     │ (<span style=\"color: #00d7ff; text-decoration-color: #00d7ff\">None</span>, <span style=\"color: #00af00; text-decoration-color: #00af00\">32</span>, <span style=\"color: #00af00; text-decoration-color: #00af00\">59</span>,    │          <span style=\"color: #00af00; text-decoration-color: #00af00\">0</span> │ batch_normalizat… │\n",
       "│                     │ <span style=\"color: #00af00; text-decoration-color: #00af00\">128</span>)              │            │                   │\n",
       "├─────────────────────┼───────────────────┼────────────┼───────────────────┤\n",
       "│ conv2d_60 (<span style=\"color: #0087ff; text-decoration-color: #0087ff\">Conv2D</span>)  │ (<span style=\"color: #00d7ff; text-decoration-color: #00d7ff\">None</span>, <span style=\"color: #00af00; text-decoration-color: #00af00\">32</span>, <span style=\"color: #00af00; text-decoration-color: #00af00\">59</span>,    │    <span style=\"color: #00af00; text-decoration-color: #00af00\">147,584</span> │ re_lu_18[<span style=\"color: #00af00; text-decoration-color: #00af00\">0</span>][<span style=\"color: #00af00; text-decoration-color: #00af00\">0</span>]    │\n",
       "│                     │ <span style=\"color: #00af00; text-decoration-color: #00af00\">128</span>)              │            │                   │\n",
       "├─────────────────────┼───────────────────┼────────────┼───────────────────┤\n",
       "│ batch_normalizatio… │ (<span style=\"color: #00d7ff; text-decoration-color: #00d7ff\">None</span>, <span style=\"color: #00af00; text-decoration-color: #00af00\">32</span>, <span style=\"color: #00af00; text-decoration-color: #00af00\">59</span>,    │        <span style=\"color: #00af00; text-decoration-color: #00af00\">512</span> │ conv2d_60[<span style=\"color: #00af00; text-decoration-color: #00af00\">0</span>][<span style=\"color: #00af00; text-decoration-color: #00af00\">0</span>]   │\n",
       "│ (<span style=\"color: #0087ff; text-decoration-color: #0087ff\">BatchNormalizatio…</span> │ <span style=\"color: #00af00; text-decoration-color: #00af00\">128</span>)              │            │                   │\n",
       "├─────────────────────┼───────────────────┼────────────┼───────────────────┤\n",
       "│ conv2d_61 (<span style=\"color: #0087ff; text-decoration-color: #0087ff\">Conv2D</span>)  │ (<span style=\"color: #00d7ff; text-decoration-color: #00d7ff\">None</span>, <span style=\"color: #00af00; text-decoration-color: #00af00\">32</span>, <span style=\"color: #00af00; text-decoration-color: #00af00\">59</span>,    │      <span style=\"color: #00af00; text-decoration-color: #00af00\">8,320</span> │ re_lu_17[<span style=\"color: #00af00; text-decoration-color: #00af00\">0</span>][<span style=\"color: #00af00; text-decoration-color: #00af00\">0</span>]    │\n",
       "│                     │ <span style=\"color: #00af00; text-decoration-color: #00af00\">128</span>)              │            │                   │\n",
       "├─────────────────────┼───────────────────┼────────────┼───────────────────┤\n",
       "│ add_8 (<span style=\"color: #0087ff; text-decoration-color: #0087ff\">Add</span>)         │ (<span style=\"color: #00d7ff; text-decoration-color: #00d7ff\">None</span>, <span style=\"color: #00af00; text-decoration-color: #00af00\">32</span>, <span style=\"color: #00af00; text-decoration-color: #00af00\">59</span>,    │          <span style=\"color: #00af00; text-decoration-color: #00af00\">0</span> │ batch_normalizat… │\n",
       "│                     │ <span style=\"color: #00af00; text-decoration-color: #00af00\">128</span>)              │            │ conv2d_61[<span style=\"color: #00af00; text-decoration-color: #00af00\">0</span>][<span style=\"color: #00af00; text-decoration-color: #00af00\">0</span>]   │\n",
       "├─────────────────────┼───────────────────┼────────────┼───────────────────┤\n",
       "│ re_lu_19 (<span style=\"color: #0087ff; text-decoration-color: #0087ff\">ReLU</span>)     │ (<span style=\"color: #00d7ff; text-decoration-color: #00d7ff\">None</span>, <span style=\"color: #00af00; text-decoration-color: #00af00\">32</span>, <span style=\"color: #00af00; text-decoration-color: #00af00\">59</span>,    │          <span style=\"color: #00af00; text-decoration-color: #00af00\">0</span> │ add_8[<span style=\"color: #00af00; text-decoration-color: #00af00\">0</span>][<span style=\"color: #00af00; text-decoration-color: #00af00\">0</span>]       │\n",
       "│                     │ <span style=\"color: #00af00; text-decoration-color: #00af00\">128</span>)              │            │                   │\n",
       "├─────────────────────┼───────────────────┼────────────┼───────────────────┤\n",
       "│ conv2d_62 (<span style=\"color: #0087ff; text-decoration-color: #0087ff\">Conv2D</span>)  │ (<span style=\"color: #00d7ff; text-decoration-color: #00d7ff\">None</span>, <span style=\"color: #00af00; text-decoration-color: #00af00\">16</span>, <span style=\"color: #00af00; text-decoration-color: #00af00\">30</span>,    │    <span style=\"color: #00af00; text-decoration-color: #00af00\">295,168</span> │ re_lu_19[<span style=\"color: #00af00; text-decoration-color: #00af00\">0</span>][<span style=\"color: #00af00; text-decoration-color: #00af00\">0</span>]    │\n",
       "│                     │ <span style=\"color: #00af00; text-decoration-color: #00af00\">256</span>)              │            │                   │\n",
       "├─────────────────────┼───────────────────┼────────────┼───────────────────┤\n",
       "│ batch_normalizatio… │ (<span style=\"color: #00d7ff; text-decoration-color: #00d7ff\">None</span>, <span style=\"color: #00af00; text-decoration-color: #00af00\">16</span>, <span style=\"color: #00af00; text-decoration-color: #00af00\">30</span>,    │      <span style=\"color: #00af00; text-decoration-color: #00af00\">1,024</span> │ conv2d_62[<span style=\"color: #00af00; text-decoration-color: #00af00\">0</span>][<span style=\"color: #00af00; text-decoration-color: #00af00\">0</span>]   │\n",
       "│ (<span style=\"color: #0087ff; text-decoration-color: #0087ff\">BatchNormalizatio…</span> │ <span style=\"color: #00af00; text-decoration-color: #00af00\">256</span>)              │            │                   │\n",
       "├─────────────────────┼───────────────────┼────────────┼───────────────────┤\n",
       "│ re_lu_20 (<span style=\"color: #0087ff; text-decoration-color: #0087ff\">ReLU</span>)     │ (<span style=\"color: #00d7ff; text-decoration-color: #00d7ff\">None</span>, <span style=\"color: #00af00; text-decoration-color: #00af00\">16</span>, <span style=\"color: #00af00; text-decoration-color: #00af00\">30</span>,    │          <span style=\"color: #00af00; text-decoration-color: #00af00\">0</span> │ batch_normalizat… │\n",
       "│                     │ <span style=\"color: #00af00; text-decoration-color: #00af00\">256</span>)              │            │                   │\n",
       "├─────────────────────┼───────────────────┼────────────┼───────────────────┤\n",
       "│ conv2d_63 (<span style=\"color: #0087ff; text-decoration-color: #0087ff\">Conv2D</span>)  │ (<span style=\"color: #00d7ff; text-decoration-color: #00d7ff\">None</span>, <span style=\"color: #00af00; text-decoration-color: #00af00\">16</span>, <span style=\"color: #00af00; text-decoration-color: #00af00\">30</span>,    │    <span style=\"color: #00af00; text-decoration-color: #00af00\">590,080</span> │ re_lu_20[<span style=\"color: #00af00; text-decoration-color: #00af00\">0</span>][<span style=\"color: #00af00; text-decoration-color: #00af00\">0</span>]    │\n",
       "│                     │ <span style=\"color: #00af00; text-decoration-color: #00af00\">256</span>)              │            │                   │\n",
       "├─────────────────────┼───────────────────┼────────────┼───────────────────┤\n",
       "│ batch_normalizatio… │ (<span style=\"color: #00d7ff; text-decoration-color: #00d7ff\">None</span>, <span style=\"color: #00af00; text-decoration-color: #00af00\">16</span>, <span style=\"color: #00af00; text-decoration-color: #00af00\">30</span>,    │      <span style=\"color: #00af00; text-decoration-color: #00af00\">1,024</span> │ conv2d_63[<span style=\"color: #00af00; text-decoration-color: #00af00\">0</span>][<span style=\"color: #00af00; text-decoration-color: #00af00\">0</span>]   │\n",
       "│ (<span style=\"color: #0087ff; text-decoration-color: #0087ff\">BatchNormalizatio…</span> │ <span style=\"color: #00af00; text-decoration-color: #00af00\">256</span>)              │            │                   │\n",
       "├─────────────────────┼───────────────────┼────────────┼───────────────────┤\n",
       "│ conv2d_64 (<span style=\"color: #0087ff; text-decoration-color: #0087ff\">Conv2D</span>)  │ (<span style=\"color: #00d7ff; text-decoration-color: #00d7ff\">None</span>, <span style=\"color: #00af00; text-decoration-color: #00af00\">16</span>, <span style=\"color: #00af00; text-decoration-color: #00af00\">30</span>,    │     <span style=\"color: #00af00; text-decoration-color: #00af00\">33,024</span> │ re_lu_19[<span style=\"color: #00af00; text-decoration-color: #00af00\">0</span>][<span style=\"color: #00af00; text-decoration-color: #00af00\">0</span>]    │\n",
       "│                     │ <span style=\"color: #00af00; text-decoration-color: #00af00\">256</span>)              │            │                   │\n",
       "├─────────────────────┼───────────────────┼────────────┼───────────────────┤\n",
       "│ add_9 (<span style=\"color: #0087ff; text-decoration-color: #0087ff\">Add</span>)         │ (<span style=\"color: #00d7ff; text-decoration-color: #00d7ff\">None</span>, <span style=\"color: #00af00; text-decoration-color: #00af00\">16</span>, <span style=\"color: #00af00; text-decoration-color: #00af00\">30</span>,    │          <span style=\"color: #00af00; text-decoration-color: #00af00\">0</span> │ batch_normalizat… │\n",
       "│                     │ <span style=\"color: #00af00; text-decoration-color: #00af00\">256</span>)              │            │ conv2d_64[<span style=\"color: #00af00; text-decoration-color: #00af00\">0</span>][<span style=\"color: #00af00; text-decoration-color: #00af00\">0</span>]   │\n",
       "├─────────────────────┼───────────────────┼────────────┼───────────────────┤\n",
       "│ re_lu_21 (<span style=\"color: #0087ff; text-decoration-color: #0087ff\">ReLU</span>)     │ (<span style=\"color: #00d7ff; text-decoration-color: #00d7ff\">None</span>, <span style=\"color: #00af00; text-decoration-color: #00af00\">16</span>, <span style=\"color: #00af00; text-decoration-color: #00af00\">30</span>,    │          <span style=\"color: #00af00; text-decoration-color: #00af00\">0</span> │ add_9[<span style=\"color: #00af00; text-decoration-color: #00af00\">0</span>][<span style=\"color: #00af00; text-decoration-color: #00af00\">0</span>]       │\n",
       "│                     │ <span style=\"color: #00af00; text-decoration-color: #00af00\">256</span>)              │            │                   │\n",
       "├─────────────────────┼───────────────────┼────────────┼───────────────────┤\n",
       "│ global_average_poo… │ (<span style=\"color: #00d7ff; text-decoration-color: #00d7ff\">None</span>, <span style=\"color: #00af00; text-decoration-color: #00af00\">256</span>)       │          <span style=\"color: #00af00; text-decoration-color: #00af00\">0</span> │ re_lu_21[<span style=\"color: #00af00; text-decoration-color: #00af00\">0</span>][<span style=\"color: #00af00; text-decoration-color: #00af00\">0</span>]    │\n",
       "│ (<span style=\"color: #0087ff; text-decoration-color: #0087ff\">GlobalAveragePool…</span> │                   │            │                   │\n",
       "├─────────────────────┼───────────────────┼────────────┼───────────────────┤\n",
       "│ dropout_12          │ (<span style=\"color: #00d7ff; text-decoration-color: #00d7ff\">None</span>, <span style=\"color: #00af00; text-decoration-color: #00af00\">256</span>)       │          <span style=\"color: #00af00; text-decoration-color: #00af00\">0</span> │ global_average_p… │\n",
       "│ (<span style=\"color: #0087ff; text-decoration-color: #0087ff\">Dropout</span>)           │                   │            │                   │\n",
       "├─────────────────────┼───────────────────┼────────────┼───────────────────┤\n",
       "│ dense_26 (<span style=\"color: #0087ff; text-decoration-color: #0087ff\">Dense</span>)    │ (<span style=\"color: #00d7ff; text-decoration-color: #00d7ff\">None</span>, <span style=\"color: #00af00; text-decoration-color: #00af00\">6</span>)         │      <span style=\"color: #00af00; text-decoration-color: #00af00\">1,542</span> │ dropout_12[<span style=\"color: #00af00; text-decoration-color: #00af00\">0</span>][<span style=\"color: #00af00; text-decoration-color: #00af00\">0</span>]  │\n",
       "└─────────────────────┴───────────────────┴────────────┴───────────────────┘\n",
       "</pre>\n"
      ],
      "text/plain": [
       "┏━━━━━━━━━━━━━━━━━━━━━┳━━━━━━━━━━━━━━━━━━━┳━━━━━━━━━━━━┳━━━━━━━━━━━━━━━━━━━┓\n",
       "┃\u001b[1m \u001b[0m\u001b[1mLayer (type)       \u001b[0m\u001b[1m \u001b[0m┃\u001b[1m \u001b[0m\u001b[1mOutput Shape     \u001b[0m\u001b[1m \u001b[0m┃\u001b[1m \u001b[0m\u001b[1m   Param #\u001b[0m\u001b[1m \u001b[0m┃\u001b[1m \u001b[0m\u001b[1mConnected to     \u001b[0m\u001b[1m \u001b[0m┃\n",
       "┡━━━━━━━━━━━━━━━━━━━━━╇━━━━━━━━━━━━━━━━━━━╇━━━━━━━━━━━━╇━━━━━━━━━━━━━━━━━━━┩\n",
       "│ input_layer_14      │ (\u001b[38;5;45mNone\u001b[0m, \u001b[38;5;34m256\u001b[0m, \u001b[38;5;34m469\u001b[0m,  │          \u001b[38;5;34m0\u001b[0m │ -                 │\n",
       "│ (\u001b[38;5;33mInputLayer\u001b[0m)        │ \u001b[38;5;34m1\u001b[0m)                │            │                   │\n",
       "├─────────────────────┼───────────────────┼────────────┼───────────────────┤\n",
       "│ conv2d_53 (\u001b[38;5;33mConv2D\u001b[0m)  │ (\u001b[38;5;45mNone\u001b[0m, \u001b[38;5;34m128\u001b[0m, \u001b[38;5;34m235\u001b[0m,  │        \u001b[38;5;34m320\u001b[0m │ input_layer_14[\u001b[38;5;34m0\u001b[0m… │\n",
       "│                     │ \u001b[38;5;34m32\u001b[0m)               │            │                   │\n",
       "├─────────────────────┼───────────────────┼────────────┼───────────────────┤\n",
       "│ batch_normalizatio… │ (\u001b[38;5;45mNone\u001b[0m, \u001b[38;5;34m128\u001b[0m, \u001b[38;5;34m235\u001b[0m,  │        \u001b[38;5;34m128\u001b[0m │ conv2d_53[\u001b[38;5;34m0\u001b[0m][\u001b[38;5;34m0\u001b[0m]   │\n",
       "│ (\u001b[38;5;33mBatchNormalizatio…\u001b[0m │ \u001b[38;5;34m32\u001b[0m)               │            │                   │\n",
       "├─────────────────────┼───────────────────┼────────────┼───────────────────┤\n",
       "│ re_lu_13 (\u001b[38;5;33mReLU\u001b[0m)     │ (\u001b[38;5;45mNone\u001b[0m, \u001b[38;5;34m128\u001b[0m, \u001b[38;5;34m235\u001b[0m,  │          \u001b[38;5;34m0\u001b[0m │ batch_normalizat… │\n",
       "│                     │ \u001b[38;5;34m32\u001b[0m)               │            │                   │\n",
       "├─────────────────────┼───────────────────┼────────────┼───────────────────┤\n",
       "│ conv2d_54 (\u001b[38;5;33mConv2D\u001b[0m)  │ (\u001b[38;5;45mNone\u001b[0m, \u001b[38;5;34m128\u001b[0m, \u001b[38;5;34m235\u001b[0m,  │      \u001b[38;5;34m9,248\u001b[0m │ re_lu_13[\u001b[38;5;34m0\u001b[0m][\u001b[38;5;34m0\u001b[0m]    │\n",
       "│                     │ \u001b[38;5;34m32\u001b[0m)               │            │                   │\n",
       "├─────────────────────┼───────────────────┼────────────┼───────────────────┤\n",
       "│ batch_normalizatio… │ (\u001b[38;5;45mNone\u001b[0m, \u001b[38;5;34m128\u001b[0m, \u001b[38;5;34m235\u001b[0m,  │        \u001b[38;5;34m128\u001b[0m │ conv2d_54[\u001b[38;5;34m0\u001b[0m][\u001b[38;5;34m0\u001b[0m]   │\n",
       "│ (\u001b[38;5;33mBatchNormalizatio…\u001b[0m │ \u001b[38;5;34m32\u001b[0m)               │            │                   │\n",
       "├─────────────────────┼───────────────────┼────────────┼───────────────────┤\n",
       "│ re_lu_14 (\u001b[38;5;33mReLU\u001b[0m)     │ (\u001b[38;5;45mNone\u001b[0m, \u001b[38;5;34m128\u001b[0m, \u001b[38;5;34m235\u001b[0m,  │          \u001b[38;5;34m0\u001b[0m │ batch_normalizat… │\n",
       "│                     │ \u001b[38;5;34m32\u001b[0m)               │            │                   │\n",
       "├─────────────────────┼───────────────────┼────────────┼───────────────────┤\n",
       "│ conv2d_55 (\u001b[38;5;33mConv2D\u001b[0m)  │ (\u001b[38;5;45mNone\u001b[0m, \u001b[38;5;34m128\u001b[0m, \u001b[38;5;34m235\u001b[0m,  │      \u001b[38;5;34m9,248\u001b[0m │ re_lu_14[\u001b[38;5;34m0\u001b[0m][\u001b[38;5;34m0\u001b[0m]    │\n",
       "│                     │ \u001b[38;5;34m32\u001b[0m)               │            │                   │\n",
       "├─────────────────────┼───────────────────┼────────────┼───────────────────┤\n",
       "│ batch_normalizatio… │ (\u001b[38;5;45mNone\u001b[0m, \u001b[38;5;34m128\u001b[0m, \u001b[38;5;34m235\u001b[0m,  │        \u001b[38;5;34m128\u001b[0m │ conv2d_55[\u001b[38;5;34m0\u001b[0m][\u001b[38;5;34m0\u001b[0m]   │\n",
       "│ (\u001b[38;5;33mBatchNormalizatio…\u001b[0m │ \u001b[38;5;34m32\u001b[0m)               │            │                   │\n",
       "├─────────────────────┼───────────────────┼────────────┼───────────────────┤\n",
       "│ add_6 (\u001b[38;5;33mAdd\u001b[0m)         │ (\u001b[38;5;45mNone\u001b[0m, \u001b[38;5;34m128\u001b[0m, \u001b[38;5;34m235\u001b[0m,  │          \u001b[38;5;34m0\u001b[0m │ batch_normalizat… │\n",
       "│                     │ \u001b[38;5;34m32\u001b[0m)               │            │ re_lu_13[\u001b[38;5;34m0\u001b[0m][\u001b[38;5;34m0\u001b[0m]    │\n",
       "├─────────────────────┼───────────────────┼────────────┼───────────────────┤\n",
       "│ re_lu_15 (\u001b[38;5;33mReLU\u001b[0m)     │ (\u001b[38;5;45mNone\u001b[0m, \u001b[38;5;34m128\u001b[0m, \u001b[38;5;34m235\u001b[0m,  │          \u001b[38;5;34m0\u001b[0m │ add_6[\u001b[38;5;34m0\u001b[0m][\u001b[38;5;34m0\u001b[0m]       │\n",
       "│                     │ \u001b[38;5;34m32\u001b[0m)               │            │                   │\n",
       "├─────────────────────┼───────────────────┼────────────┼───────────────────┤\n",
       "│ conv2d_56 (\u001b[38;5;33mConv2D\u001b[0m)  │ (\u001b[38;5;45mNone\u001b[0m, \u001b[38;5;34m64\u001b[0m, \u001b[38;5;34m118\u001b[0m,   │     \u001b[38;5;34m18,496\u001b[0m │ re_lu_15[\u001b[38;5;34m0\u001b[0m][\u001b[38;5;34m0\u001b[0m]    │\n",
       "│                     │ \u001b[38;5;34m64\u001b[0m)               │            │                   │\n",
       "├─────────────────────┼───────────────────┼────────────┼───────────────────┤\n",
       "│ batch_normalizatio… │ (\u001b[38;5;45mNone\u001b[0m, \u001b[38;5;34m64\u001b[0m, \u001b[38;5;34m118\u001b[0m,   │        \u001b[38;5;34m256\u001b[0m │ conv2d_56[\u001b[38;5;34m0\u001b[0m][\u001b[38;5;34m0\u001b[0m]   │\n",
       "│ (\u001b[38;5;33mBatchNormalizatio…\u001b[0m │ \u001b[38;5;34m64\u001b[0m)               │            │                   │\n",
       "├─────────────────────┼───────────────────┼────────────┼───────────────────┤\n",
       "│ re_lu_16 (\u001b[38;5;33mReLU\u001b[0m)     │ (\u001b[38;5;45mNone\u001b[0m, \u001b[38;5;34m64\u001b[0m, \u001b[38;5;34m118\u001b[0m,   │          \u001b[38;5;34m0\u001b[0m │ batch_normalizat… │\n",
       "│                     │ \u001b[38;5;34m64\u001b[0m)               │            │                   │\n",
       "├─────────────────────┼───────────────────┼────────────┼───────────────────┤\n",
       "│ conv2d_57 (\u001b[38;5;33mConv2D\u001b[0m)  │ (\u001b[38;5;45mNone\u001b[0m, \u001b[38;5;34m64\u001b[0m, \u001b[38;5;34m118\u001b[0m,   │     \u001b[38;5;34m36,928\u001b[0m │ re_lu_16[\u001b[38;5;34m0\u001b[0m][\u001b[38;5;34m0\u001b[0m]    │\n",
       "│                     │ \u001b[38;5;34m64\u001b[0m)               │            │                   │\n",
       "├─────────────────────┼───────────────────┼────────────┼───────────────────┤\n",
       "│ batch_normalizatio… │ (\u001b[38;5;45mNone\u001b[0m, \u001b[38;5;34m64\u001b[0m, \u001b[38;5;34m118\u001b[0m,   │        \u001b[38;5;34m256\u001b[0m │ conv2d_57[\u001b[38;5;34m0\u001b[0m][\u001b[38;5;34m0\u001b[0m]   │\n",
       "│ (\u001b[38;5;33mBatchNormalizatio…\u001b[0m │ \u001b[38;5;34m64\u001b[0m)               │            │                   │\n",
       "├─────────────────────┼───────────────────┼────────────┼───────────────────┤\n",
       "│ conv2d_58 (\u001b[38;5;33mConv2D\u001b[0m)  │ (\u001b[38;5;45mNone\u001b[0m, \u001b[38;5;34m64\u001b[0m, \u001b[38;5;34m118\u001b[0m,   │      \u001b[38;5;34m2,112\u001b[0m │ re_lu_15[\u001b[38;5;34m0\u001b[0m][\u001b[38;5;34m0\u001b[0m]    │\n",
       "│                     │ \u001b[38;5;34m64\u001b[0m)               │            │                   │\n",
       "├─────────────────────┼───────────────────┼────────────┼───────────────────┤\n",
       "│ add_7 (\u001b[38;5;33mAdd\u001b[0m)         │ (\u001b[38;5;45mNone\u001b[0m, \u001b[38;5;34m64\u001b[0m, \u001b[38;5;34m118\u001b[0m,   │          \u001b[38;5;34m0\u001b[0m │ batch_normalizat… │\n",
       "│                     │ \u001b[38;5;34m64\u001b[0m)               │            │ conv2d_58[\u001b[38;5;34m0\u001b[0m][\u001b[38;5;34m0\u001b[0m]   │\n",
       "├─────────────────────┼───────────────────┼────────────┼───────────────────┤\n",
       "│ re_lu_17 (\u001b[38;5;33mReLU\u001b[0m)     │ (\u001b[38;5;45mNone\u001b[0m, \u001b[38;5;34m64\u001b[0m, \u001b[38;5;34m118\u001b[0m,   │          \u001b[38;5;34m0\u001b[0m │ add_7[\u001b[38;5;34m0\u001b[0m][\u001b[38;5;34m0\u001b[0m]       │\n",
       "│                     │ \u001b[38;5;34m64\u001b[0m)               │            │                   │\n",
       "├─────────────────────┼───────────────────┼────────────┼───────────────────┤\n",
       "│ conv2d_59 (\u001b[38;5;33mConv2D\u001b[0m)  │ (\u001b[38;5;45mNone\u001b[0m, \u001b[38;5;34m32\u001b[0m, \u001b[38;5;34m59\u001b[0m,    │     \u001b[38;5;34m73,856\u001b[0m │ re_lu_17[\u001b[38;5;34m0\u001b[0m][\u001b[38;5;34m0\u001b[0m]    │\n",
       "│                     │ \u001b[38;5;34m128\u001b[0m)              │            │                   │\n",
       "├─────────────────────┼───────────────────┼────────────┼───────────────────┤\n",
       "│ batch_normalizatio… │ (\u001b[38;5;45mNone\u001b[0m, \u001b[38;5;34m32\u001b[0m, \u001b[38;5;34m59\u001b[0m,    │        \u001b[38;5;34m512\u001b[0m │ conv2d_59[\u001b[38;5;34m0\u001b[0m][\u001b[38;5;34m0\u001b[0m]   │\n",
       "│ (\u001b[38;5;33mBatchNormalizatio…\u001b[0m │ \u001b[38;5;34m128\u001b[0m)              │            │                   │\n",
       "├─────────────────────┼───────────────────┼────────────┼───────────────────┤\n",
       "│ re_lu_18 (\u001b[38;5;33mReLU\u001b[0m)     │ (\u001b[38;5;45mNone\u001b[0m, \u001b[38;5;34m32\u001b[0m, \u001b[38;5;34m59\u001b[0m,    │          \u001b[38;5;34m0\u001b[0m │ batch_normalizat… │\n",
       "│                     │ \u001b[38;5;34m128\u001b[0m)              │            │                   │\n",
       "├─────────────────────┼───────────────────┼────────────┼───────────────────┤\n",
       "│ conv2d_60 (\u001b[38;5;33mConv2D\u001b[0m)  │ (\u001b[38;5;45mNone\u001b[0m, \u001b[38;5;34m32\u001b[0m, \u001b[38;5;34m59\u001b[0m,    │    \u001b[38;5;34m147,584\u001b[0m │ re_lu_18[\u001b[38;5;34m0\u001b[0m][\u001b[38;5;34m0\u001b[0m]    │\n",
       "│                     │ \u001b[38;5;34m128\u001b[0m)              │            │                   │\n",
       "├─────────────────────┼───────────────────┼────────────┼───────────────────┤\n",
       "│ batch_normalizatio… │ (\u001b[38;5;45mNone\u001b[0m, \u001b[38;5;34m32\u001b[0m, \u001b[38;5;34m59\u001b[0m,    │        \u001b[38;5;34m512\u001b[0m │ conv2d_60[\u001b[38;5;34m0\u001b[0m][\u001b[38;5;34m0\u001b[0m]   │\n",
       "│ (\u001b[38;5;33mBatchNormalizatio…\u001b[0m │ \u001b[38;5;34m128\u001b[0m)              │            │                   │\n",
       "├─────────────────────┼───────────────────┼────────────┼───────────────────┤\n",
       "│ conv2d_61 (\u001b[38;5;33mConv2D\u001b[0m)  │ (\u001b[38;5;45mNone\u001b[0m, \u001b[38;5;34m32\u001b[0m, \u001b[38;5;34m59\u001b[0m,    │      \u001b[38;5;34m8,320\u001b[0m │ re_lu_17[\u001b[38;5;34m0\u001b[0m][\u001b[38;5;34m0\u001b[0m]    │\n",
       "│                     │ \u001b[38;5;34m128\u001b[0m)              │            │                   │\n",
       "├─────────────────────┼───────────────────┼────────────┼───────────────────┤\n",
       "│ add_8 (\u001b[38;5;33mAdd\u001b[0m)         │ (\u001b[38;5;45mNone\u001b[0m, \u001b[38;5;34m32\u001b[0m, \u001b[38;5;34m59\u001b[0m,    │          \u001b[38;5;34m0\u001b[0m │ batch_normalizat… │\n",
       "│                     │ \u001b[38;5;34m128\u001b[0m)              │            │ conv2d_61[\u001b[38;5;34m0\u001b[0m][\u001b[38;5;34m0\u001b[0m]   │\n",
       "├─────────────────────┼───────────────────┼────────────┼───────────────────┤\n",
       "│ re_lu_19 (\u001b[38;5;33mReLU\u001b[0m)     │ (\u001b[38;5;45mNone\u001b[0m, \u001b[38;5;34m32\u001b[0m, \u001b[38;5;34m59\u001b[0m,    │          \u001b[38;5;34m0\u001b[0m │ add_8[\u001b[38;5;34m0\u001b[0m][\u001b[38;5;34m0\u001b[0m]       │\n",
       "│                     │ \u001b[38;5;34m128\u001b[0m)              │            │                   │\n",
       "├─────────────────────┼───────────────────┼────────────┼───────────────────┤\n",
       "│ conv2d_62 (\u001b[38;5;33mConv2D\u001b[0m)  │ (\u001b[38;5;45mNone\u001b[0m, \u001b[38;5;34m16\u001b[0m, \u001b[38;5;34m30\u001b[0m,    │    \u001b[38;5;34m295,168\u001b[0m │ re_lu_19[\u001b[38;5;34m0\u001b[0m][\u001b[38;5;34m0\u001b[0m]    │\n",
       "│                     │ \u001b[38;5;34m256\u001b[0m)              │            │                   │\n",
       "├─────────────────────┼───────────────────┼────────────┼───────────────────┤\n",
       "│ batch_normalizatio… │ (\u001b[38;5;45mNone\u001b[0m, \u001b[38;5;34m16\u001b[0m, \u001b[38;5;34m30\u001b[0m,    │      \u001b[38;5;34m1,024\u001b[0m │ conv2d_62[\u001b[38;5;34m0\u001b[0m][\u001b[38;5;34m0\u001b[0m]   │\n",
       "│ (\u001b[38;5;33mBatchNormalizatio…\u001b[0m │ \u001b[38;5;34m256\u001b[0m)              │            │                   │\n",
       "├─────────────────────┼───────────────────┼────────────┼───────────────────┤\n",
       "│ re_lu_20 (\u001b[38;5;33mReLU\u001b[0m)     │ (\u001b[38;5;45mNone\u001b[0m, \u001b[38;5;34m16\u001b[0m, \u001b[38;5;34m30\u001b[0m,    │          \u001b[38;5;34m0\u001b[0m │ batch_normalizat… │\n",
       "│                     │ \u001b[38;5;34m256\u001b[0m)              │            │                   │\n",
       "├─────────────────────┼───────────────────┼────────────┼───────────────────┤\n",
       "│ conv2d_63 (\u001b[38;5;33mConv2D\u001b[0m)  │ (\u001b[38;5;45mNone\u001b[0m, \u001b[38;5;34m16\u001b[0m, \u001b[38;5;34m30\u001b[0m,    │    \u001b[38;5;34m590,080\u001b[0m │ re_lu_20[\u001b[38;5;34m0\u001b[0m][\u001b[38;5;34m0\u001b[0m]    │\n",
       "│                     │ \u001b[38;5;34m256\u001b[0m)              │            │                   │\n",
       "├─────────────────────┼───────────────────┼────────────┼───────────────────┤\n",
       "│ batch_normalizatio… │ (\u001b[38;5;45mNone\u001b[0m, \u001b[38;5;34m16\u001b[0m, \u001b[38;5;34m30\u001b[0m,    │      \u001b[38;5;34m1,024\u001b[0m │ conv2d_63[\u001b[38;5;34m0\u001b[0m][\u001b[38;5;34m0\u001b[0m]   │\n",
       "│ (\u001b[38;5;33mBatchNormalizatio…\u001b[0m │ \u001b[38;5;34m256\u001b[0m)              │            │                   │\n",
       "├─────────────────────┼───────────────────┼────────────┼───────────────────┤\n",
       "│ conv2d_64 (\u001b[38;5;33mConv2D\u001b[0m)  │ (\u001b[38;5;45mNone\u001b[0m, \u001b[38;5;34m16\u001b[0m, \u001b[38;5;34m30\u001b[0m,    │     \u001b[38;5;34m33,024\u001b[0m │ re_lu_19[\u001b[38;5;34m0\u001b[0m][\u001b[38;5;34m0\u001b[0m]    │\n",
       "│                     │ \u001b[38;5;34m256\u001b[0m)              │            │                   │\n",
       "├─────────────────────┼───────────────────┼────────────┼───────────────────┤\n",
       "│ add_9 (\u001b[38;5;33mAdd\u001b[0m)         │ (\u001b[38;5;45mNone\u001b[0m, \u001b[38;5;34m16\u001b[0m, \u001b[38;5;34m30\u001b[0m,    │          \u001b[38;5;34m0\u001b[0m │ batch_normalizat… │\n",
       "│                     │ \u001b[38;5;34m256\u001b[0m)              │            │ conv2d_64[\u001b[38;5;34m0\u001b[0m][\u001b[38;5;34m0\u001b[0m]   │\n",
       "├─────────────────────┼───────────────────┼────────────┼───────────────────┤\n",
       "│ re_lu_21 (\u001b[38;5;33mReLU\u001b[0m)     │ (\u001b[38;5;45mNone\u001b[0m, \u001b[38;5;34m16\u001b[0m, \u001b[38;5;34m30\u001b[0m,    │          \u001b[38;5;34m0\u001b[0m │ add_9[\u001b[38;5;34m0\u001b[0m][\u001b[38;5;34m0\u001b[0m]       │\n",
       "│                     │ \u001b[38;5;34m256\u001b[0m)              │            │                   │\n",
       "├─────────────────────┼───────────────────┼────────────┼───────────────────┤\n",
       "│ global_average_poo… │ (\u001b[38;5;45mNone\u001b[0m, \u001b[38;5;34m256\u001b[0m)       │          \u001b[38;5;34m0\u001b[0m │ re_lu_21[\u001b[38;5;34m0\u001b[0m][\u001b[38;5;34m0\u001b[0m]    │\n",
       "│ (\u001b[38;5;33mGlobalAveragePool…\u001b[0m │                   │            │                   │\n",
       "├─────────────────────┼───────────────────┼────────────┼───────────────────┤\n",
       "│ dropout_12          │ (\u001b[38;5;45mNone\u001b[0m, \u001b[38;5;34m256\u001b[0m)       │          \u001b[38;5;34m0\u001b[0m │ global_average_p… │\n",
       "│ (\u001b[38;5;33mDropout\u001b[0m)           │                   │            │                   │\n",
       "├─────────────────────┼───────────────────┼────────────┼───────────────────┤\n",
       "│ dense_26 (\u001b[38;5;33mDense\u001b[0m)    │ (\u001b[38;5;45mNone\u001b[0m, \u001b[38;5;34m6\u001b[0m)         │      \u001b[38;5;34m1,542\u001b[0m │ dropout_12[\u001b[38;5;34m0\u001b[0m][\u001b[38;5;34m0\u001b[0m]  │\n",
       "└─────────────────────┴───────────────────┴────────────┴───────────────────┘\n"
      ]
     },
     "metadata": {},
     "output_type": "display_data"
    },
    {
     "data": {
      "text/html": [
       "<pre style=\"white-space:pre;overflow-x:auto;line-height:normal;font-family:Menlo,'DejaVu Sans Mono',consolas,'Courier New',monospace\"><span style=\"font-weight: bold\"> Total params: </span><span style=\"color: #00af00; text-decoration-color: #00af00\">1,229,894</span> (4.69 MB)\n",
       "</pre>\n"
      ],
      "text/plain": [
       "\u001b[1m Total params: \u001b[0m\u001b[38;5;34m1,229,894\u001b[0m (4.69 MB)\n"
      ]
     },
     "metadata": {},
     "output_type": "display_data"
    },
    {
     "data": {
      "text/html": [
       "<pre style=\"white-space:pre;overflow-x:auto;line-height:normal;font-family:Menlo,'DejaVu Sans Mono',consolas,'Courier New',monospace\"><span style=\"font-weight: bold\"> Trainable params: </span><span style=\"color: #00af00; text-decoration-color: #00af00\">1,227,910</span> (4.68 MB)\n",
       "</pre>\n"
      ],
      "text/plain": [
       "\u001b[1m Trainable params: \u001b[0m\u001b[38;5;34m1,227,910\u001b[0m (4.68 MB)\n"
      ]
     },
     "metadata": {},
     "output_type": "display_data"
    },
    {
     "data": {
      "text/html": [
       "<pre style=\"white-space:pre;overflow-x:auto;line-height:normal;font-family:Menlo,'DejaVu Sans Mono',consolas,'Courier New',monospace\"><span style=\"font-weight: bold\"> Non-trainable params: </span><span style=\"color: #00af00; text-decoration-color: #00af00\">1,984</span> (7.75 KB)\n",
       "</pre>\n"
      ],
      "text/plain": [
       "\u001b[1m Non-trainable params: \u001b[0m\u001b[38;5;34m1,984\u001b[0m (7.75 KB)\n"
      ]
     },
     "metadata": {},
     "output_type": "display_data"
    }
   ],
   "source": [
    "input_shape = (256, 469, 1)  \n",
    "num_classes = 6\n",
    "model = build_resnet(input_shape, num_classes)\n",
    "\n",
    "model.summary()"
   ]
  },
  {
   "cell_type": "code",
   "execution_count": 172,
   "id": "edbc212b-7d77-4d80-a453-57bd1a16b96d",
   "metadata": {
    "scrolled": true
   },
   "outputs": [
    {
     "name": "stdout",
     "output_type": "stream",
     "text": [
      "Epoch 1/50\n",
      "\u001b[1m27/27\u001b[0m \u001b[32m━━━━━━━━━━━━━━━━━━━━\u001b[0m\u001b[37m\u001b[0m \u001b[1m28s\u001b[0m 747ms/step - accuracy: 0.6566 - loss: 1.7010 - val_accuracy: 0.1509 - val_loss: 3.7187 - learning_rate: 5.0000e-04\n",
      "Epoch 2/50\n",
      "\u001b[1m27/27\u001b[0m \u001b[32m━━━━━━━━━━━━━━━━━━━━\u001b[0m\u001b[37m\u001b[0m \u001b[1m20s\u001b[0m 737ms/step - accuracy: 0.7768 - loss: 1.3903 - val_accuracy: 0.2075 - val_loss: 4.4759 - learning_rate: 5.0000e-04\n",
      "Epoch 3/50\n",
      "\u001b[1m27/27\u001b[0m \u001b[32m━━━━━━━━━━━━━━━━━━━━\u001b[0m\u001b[37m\u001b[0m \u001b[1m20s\u001b[0m 731ms/step - accuracy: 0.7960 - loss: 1.2867 - val_accuracy: 0.1604 - val_loss: 5.2197 - learning_rate: 5.0000e-04\n",
      "Epoch 4/50\n",
      "\u001b[1m27/27\u001b[0m \u001b[32m━━━━━━━━━━━━━━━━━━━━\u001b[0m\u001b[37m\u001b[0m \u001b[1m20s\u001b[0m 747ms/step - accuracy: 0.7975 - loss: 1.2365 - val_accuracy: 0.1792 - val_loss: 7.0214 - learning_rate: 5.0000e-04\n",
      "Epoch 5/50\n",
      "\u001b[1m27/27\u001b[0m \u001b[32m━━━━━━━━━━━━━━━━━━━━\u001b[0m\u001b[37m\u001b[0m \u001b[1m20s\u001b[0m 743ms/step - accuracy: 0.9154 - loss: 0.9934 - val_accuracy: 0.1792 - val_loss: 4.1520 - learning_rate: 2.5000e-04\n",
      "Epoch 6/50\n",
      "\u001b[1m27/27\u001b[0m \u001b[32m━━━━━━━━━━━━━━━━━━━━\u001b[0m\u001b[37m\u001b[0m \u001b[1m21s\u001b[0m 772ms/step - accuracy: 0.9533 - loss: 0.8936 - val_accuracy: 0.3019 - val_loss: 4.1598 - learning_rate: 2.5000e-04\n",
      "Epoch 7/50\n",
      "\u001b[1m27/27\u001b[0m \u001b[32m━━━━━━━━━━━━━━━━━━━━\u001b[0m\u001b[37m\u001b[0m \u001b[1m22s\u001b[0m 801ms/step - accuracy: 0.9531 - loss: 0.8560 - val_accuracy: 0.3491 - val_loss: 3.7292 - learning_rate: 2.5000e-04\n",
      "Epoch 8/50\n",
      "\u001b[1m27/27\u001b[0m \u001b[32m━━━━━━━━━━━━━━━━━━━━\u001b[0m\u001b[37m\u001b[0m \u001b[1m24s\u001b[0m 901ms/step - accuracy: 0.9563 - loss: 0.8187 - val_accuracy: 0.3868 - val_loss: 3.3128 - learning_rate: 1.2500e-04\n",
      "Epoch 9/50\n",
      "\u001b[1m27/27\u001b[0m \u001b[32m━━━━━━━━━━━━━━━━━━━━\u001b[0m\u001b[37m\u001b[0m \u001b[1m24s\u001b[0m 882ms/step - accuracy: 0.9758 - loss: 0.7760 - val_accuracy: 0.3774 - val_loss: 2.9616 - learning_rate: 1.2500e-04\n",
      "Epoch 10/50\n",
      "\u001b[1m27/27\u001b[0m \u001b[32m━━━━━━━━━━━━━━━━━━━━\u001b[0m\u001b[37m\u001b[0m \u001b[1m24s\u001b[0m 877ms/step - accuracy: 0.9621 - loss: 0.7614 - val_accuracy: 0.3774 - val_loss: 2.7379 - learning_rate: 1.2500e-04\n",
      "Epoch 11/50\n",
      "\u001b[1m27/27\u001b[0m \u001b[32m━━━━━━━━━━━━━━━━━━━━\u001b[0m\u001b[37m\u001b[0m \u001b[1m23s\u001b[0m 865ms/step - accuracy: 0.9848 - loss: 0.7201 - val_accuracy: 0.4245 - val_loss: 2.2661 - learning_rate: 1.2500e-04\n",
      "Epoch 12/50\n",
      "\u001b[1m27/27\u001b[0m \u001b[32m━━━━━━━━━━━━━━━━━━━━\u001b[0m\u001b[37m\u001b[0m \u001b[1m24s\u001b[0m 880ms/step - accuracy: 0.9719 - loss: 0.7215 - val_accuracy: 0.5283 - val_loss: 2.1493 - learning_rate: 1.2500e-04\n",
      "Epoch 13/50\n",
      "\u001b[1m27/27\u001b[0m \u001b[32m━━━━━━━━━━━━━━━━━━━━\u001b[0m\u001b[37m\u001b[0m \u001b[1m24s\u001b[0m 885ms/step - accuracy: 0.9842 - loss: 0.7026 - val_accuracy: 0.4528 - val_loss: 2.3829 - learning_rate: 1.2500e-04\n",
      "Epoch 14/50\n",
      "\u001b[1m27/27\u001b[0m \u001b[32m━━━━━━━━━━━━━━━━━━━━\u001b[0m\u001b[37m\u001b[0m \u001b[1m24s\u001b[0m 871ms/step - accuracy: 0.9795 - loss: 0.6886 - val_accuracy: 0.6887 - val_loss: 1.6143 - learning_rate: 1.2500e-04\n",
      "Epoch 15/50\n",
      "\u001b[1m27/27\u001b[0m \u001b[32m━━━━━━━━━━━━━━━━━━━━\u001b[0m\u001b[37m\u001b[0m \u001b[1m23s\u001b[0m 860ms/step - accuracy: 0.9871 - loss: 0.6745 - val_accuracy: 0.6038 - val_loss: 1.4850 - learning_rate: 1.2500e-04\n",
      "Epoch 16/50\n",
      "\u001b[1m27/27\u001b[0m \u001b[32m━━━━━━━━━━━━━━━━━━━━\u001b[0m\u001b[37m\u001b[0m \u001b[1m24s\u001b[0m 871ms/step - accuracy: 0.9722 - loss: 0.6895 - val_accuracy: 0.7453 - val_loss: 1.2452 - learning_rate: 1.2500e-04\n",
      "Epoch 17/50\n",
      "\u001b[1m27/27\u001b[0m \u001b[32m━━━━━━━━━━━━━━━━━━━━\u001b[0m\u001b[37m\u001b[0m \u001b[1m24s\u001b[0m 886ms/step - accuracy: 0.9805 - loss: 0.6794 - val_accuracy: 0.7075 - val_loss: 1.4325 - learning_rate: 1.2500e-04\n",
      "Epoch 18/50\n",
      "\u001b[1m27/27\u001b[0m \u001b[32m━━━━━━━━━━━━━━━━━━━━\u001b[0m\u001b[37m\u001b[0m \u001b[1m24s\u001b[0m 889ms/step - accuracy: 0.9874 - loss: 0.6513 - val_accuracy: 0.7453 - val_loss: 1.1446 - learning_rate: 1.2500e-04\n",
      "Epoch 19/50\n",
      "\u001b[1m27/27\u001b[0m \u001b[32m━━━━━━━━━━━━━━━━━━━━\u001b[0m\u001b[37m\u001b[0m \u001b[1m23s\u001b[0m 868ms/step - accuracy: 0.9841 - loss: 0.6281 - val_accuracy: 0.8019 - val_loss: 1.0558 - learning_rate: 1.2500e-04\n",
      "Epoch 20/50\n",
      "\u001b[1m27/27\u001b[0m \u001b[32m━━━━━━━━━━━━━━━━━━━━\u001b[0m\u001b[37m\u001b[0m \u001b[1m23s\u001b[0m 868ms/step - accuracy: 0.9954 - loss: 0.6205 - val_accuracy: 0.8302 - val_loss: 1.0568 - learning_rate: 1.2500e-04\n",
      "Epoch 21/50\n",
      "\u001b[1m27/27\u001b[0m \u001b[32m━━━━━━━━━━━━━━━━━━━━\u001b[0m\u001b[37m\u001b[0m \u001b[1m23s\u001b[0m 868ms/step - accuracy: 0.9921 - loss: 0.6081 - val_accuracy: 0.7547 - val_loss: 1.2646 - learning_rate: 1.2500e-04\n",
      "Epoch 22/50\n",
      "\u001b[1m27/27\u001b[0m \u001b[32m━━━━━━━━━━━━━━━━━━━━\u001b[0m\u001b[37m\u001b[0m \u001b[1m24s\u001b[0m 881ms/step - accuracy: 0.9822 - loss: 0.6124 - val_accuracy: 0.8491 - val_loss: 1.0264 - learning_rate: 1.2500e-04\n",
      "Epoch 23/50\n",
      "\u001b[1m27/27\u001b[0m \u001b[32m━━━━━━━━━━━━━━━━━━━━\u001b[0m\u001b[37m\u001b[0m \u001b[1m24s\u001b[0m 896ms/step - accuracy: 1.0000 - loss: 0.5806 - val_accuracy: 0.7925 - val_loss: 1.0846 - learning_rate: 1.2500e-04\n",
      "Epoch 24/50\n",
      "\u001b[1m27/27\u001b[0m \u001b[32m━━━━━━━━━━━━━━━━━━━━\u001b[0m\u001b[37m\u001b[0m \u001b[1m24s\u001b[0m 871ms/step - accuracy: 0.9997 - loss: 0.5729 - val_accuracy: 0.8396 - val_loss: 0.9721 - learning_rate: 1.2500e-04\n",
      "Epoch 25/50\n",
      "\u001b[1m27/27\u001b[0m \u001b[32m━━━━━━━━━━━━━━━━━━━━\u001b[0m\u001b[37m\u001b[0m \u001b[1m24s\u001b[0m 887ms/step - accuracy: 1.0000 - loss: 0.5542 - val_accuracy: 0.8491 - val_loss: 0.9393 - learning_rate: 1.2500e-04\n",
      "Epoch 26/50\n",
      "\u001b[1m27/27\u001b[0m \u001b[32m━━━━━━━━━━━━━━━━━━━━\u001b[0m\u001b[37m\u001b[0m \u001b[1m23s\u001b[0m 868ms/step - accuracy: 1.0000 - loss: 0.5620 - val_accuracy: 0.8396 - val_loss: 0.9487 - learning_rate: 1.2500e-04\n",
      "Epoch 27/50\n",
      "\u001b[1m27/27\u001b[0m \u001b[32m━━━━━━━━━━━━━━━━━━━━\u001b[0m\u001b[37m\u001b[0m \u001b[1m24s\u001b[0m 873ms/step - accuracy: 1.0000 - loss: 0.5487 - val_accuracy: 0.8208 - val_loss: 1.0000 - learning_rate: 1.2500e-04\n",
      "Epoch 28/50\n",
      "\u001b[1m27/27\u001b[0m \u001b[32m━━━━━━━━━━━━━━━━━━━━\u001b[0m\u001b[37m\u001b[0m \u001b[1m23s\u001b[0m 869ms/step - accuracy: 1.0000 - loss: 0.5349 - val_accuracy: 0.8019 - val_loss: 1.0440 - learning_rate: 1.2500e-04\n",
      "Epoch 29/50\n",
      "\u001b[1m27/27\u001b[0m \u001b[32m━━━━━━━━━━━━━━━━━━━━\u001b[0m\u001b[37m\u001b[0m \u001b[1m24s\u001b[0m 875ms/step - accuracy: 1.0000 - loss: 0.5398 - val_accuracy: 0.8208 - val_loss: 0.9768 - learning_rate: 6.2500e-05\n",
      "Epoch 30/50\n",
      "\u001b[1m27/27\u001b[0m \u001b[32m━━━━━━━━━━━━━━━━━━━━\u001b[0m\u001b[37m\u001b[0m \u001b[1m24s\u001b[0m 894ms/step - accuracy: 0.9998 - loss: 0.5252 - val_accuracy: 0.9245 - val_loss: 0.7392 - learning_rate: 6.2500e-05\n",
      "Epoch 31/50\n",
      "\u001b[1m27/27\u001b[0m \u001b[32m━━━━━━━━━━━━━━━━━━━━\u001b[0m\u001b[37m\u001b[0m \u001b[1m24s\u001b[0m 875ms/step - accuracy: 0.9985 - loss: 0.5313 - val_accuracy: 0.9245 - val_loss: 0.7759 - learning_rate: 6.2500e-05\n",
      "Epoch 32/50\n",
      "\u001b[1m27/27\u001b[0m \u001b[32m━━━━━━━━━━━━━━━━━━━━\u001b[0m\u001b[37m\u001b[0m \u001b[1m24s\u001b[0m 873ms/step - accuracy: 0.9959 - loss: 0.5232 - val_accuracy: 0.8679 - val_loss: 0.8499 - learning_rate: 6.2500e-05\n",
      "Epoch 33/50\n",
      "\u001b[1m27/27\u001b[0m \u001b[32m━━━━━━━━━━━━━━━━━━━━\u001b[0m\u001b[37m\u001b[0m \u001b[1m24s\u001b[0m 875ms/step - accuracy: 1.0000 - loss: 0.5191 - val_accuracy: 0.8679 - val_loss: 0.8542 - learning_rate: 6.2500e-05\n",
      "Epoch 34/50\n",
      "\u001b[1m27/27\u001b[0m \u001b[32m━━━━━━━━━━━━━━━━━━━━\u001b[0m\u001b[37m\u001b[0m \u001b[1m23s\u001b[0m 868ms/step - accuracy: 1.0000 - loss: 0.5141 - val_accuracy: 0.8868 - val_loss: 0.8178 - learning_rate: 3.1250e-05\n",
      "Epoch 35/50\n",
      "\u001b[1m27/27\u001b[0m \u001b[32m━━━━━━━━━━━━━━━━━━━━\u001b[0m\u001b[37m\u001b[0m \u001b[1m24s\u001b[0m 890ms/step - accuracy: 1.0000 - loss: 0.5123 - val_accuracy: 0.9057 - val_loss: 0.7671 - learning_rate: 3.1250e-05\n",
      "Epoch 36/50\n",
      "\u001b[1m27/27\u001b[0m \u001b[32m━━━━━━━━━━━━━━━━━━━━\u001b[0m\u001b[37m\u001b[0m \u001b[1m24s\u001b[0m 875ms/step - accuracy: 0.9991 - loss: 0.5174 - val_accuracy: 0.9151 - val_loss: 0.7359 - learning_rate: 3.1250e-05\n",
      "Epoch 37/50\n",
      "\u001b[1m27/27\u001b[0m \u001b[32m━━━━━━━━━━━━━━━━━━━━\u001b[0m\u001b[37m\u001b[0m \u001b[1m23s\u001b[0m 868ms/step - accuracy: 1.0000 - loss: 0.5091 - val_accuracy: 0.9151 - val_loss: 0.7285 - learning_rate: 3.1250e-05\n",
      "Epoch 38/50\n",
      "\u001b[1m27/27\u001b[0m \u001b[32m━━━━━━━━━━━━━━━━━━━━\u001b[0m\u001b[37m\u001b[0m \u001b[1m23s\u001b[0m 866ms/step - accuracy: 1.0000 - loss: 0.5112 - val_accuracy: 0.8774 - val_loss: 0.8162 - learning_rate: 3.1250e-05\n",
      "Epoch 39/50\n",
      "\u001b[1m27/27\u001b[0m \u001b[32m━━━━━━━━━━━━━━━━━━━━\u001b[0m\u001b[37m\u001b[0m \u001b[1m24s\u001b[0m 874ms/step - accuracy: 1.0000 - loss: 0.5101 - val_accuracy: 0.9057 - val_loss: 0.7808 - learning_rate: 3.1250e-05\n",
      "Epoch 40/50\n",
      "\u001b[1m27/27\u001b[0m \u001b[32m━━━━━━━━━━━━━━━━━━━━\u001b[0m\u001b[37m\u001b[0m \u001b[1m24s\u001b[0m 889ms/step - accuracy: 1.0000 - loss: 0.5040 - val_accuracy: 0.9151 - val_loss: 0.7490 - learning_rate: 3.1250e-05\n",
      "Epoch 41/50\n",
      "\u001b[1m27/27\u001b[0m \u001b[32m━━━━━━━━━━━━━━━━━━━━\u001b[0m\u001b[37m\u001b[0m \u001b[1m24s\u001b[0m 881ms/step - accuracy: 0.9998 - loss: 0.4955 - val_accuracy: 0.9151 - val_loss: 0.7365 - learning_rate: 1.5625e-05\n",
      "Epoch 42/50\n",
      "\u001b[1m27/27\u001b[0m \u001b[32m━━━━━━━━━━━━━━━━━━━━\u001b[0m\u001b[37m\u001b[0m \u001b[1m24s\u001b[0m 873ms/step - accuracy: 0.9985 - loss: 0.5009 - val_accuracy: 0.9057 - val_loss: 0.7257 - learning_rate: 1.5625e-05\n",
      "Epoch 43/50\n",
      "\u001b[1m27/27\u001b[0m \u001b[32m━━━━━━━━━━━━━━━━━━━━\u001b[0m\u001b[37m\u001b[0m \u001b[1m23s\u001b[0m 869ms/step - accuracy: 0.9982 - loss: 0.4966 - val_accuracy: 0.9151 - val_loss: 0.6988 - learning_rate: 1.5625e-05\n",
      "Epoch 44/50\n",
      "\u001b[1m27/27\u001b[0m \u001b[32m━━━━━━━━━━━━━━━━━━━━\u001b[0m\u001b[37m\u001b[0m \u001b[1m24s\u001b[0m 870ms/step - accuracy: 0.9998 - loss: 0.4938 - val_accuracy: 0.9151 - val_loss: 0.7008 - learning_rate: 1.5625e-05\n",
      "Epoch 45/50\n",
      "\u001b[1m27/27\u001b[0m \u001b[32m━━━━━━━━━━━━━━━━━━━━\u001b[0m\u001b[37m\u001b[0m \u001b[1m24s\u001b[0m 887ms/step - accuracy: 1.0000 - loss: 0.4938 - val_accuracy: 0.9151 - val_loss: 0.7218 - learning_rate: 1.5625e-05\n",
      "Epoch 46/50\n",
      "\u001b[1m27/27\u001b[0m \u001b[32m━━━━━━━━━━━━━━━━━━━━\u001b[0m\u001b[37m\u001b[0m \u001b[1m24s\u001b[0m 874ms/step - accuracy: 1.0000 - loss: 0.4949 - val_accuracy: 0.9245 - val_loss: 0.7131 - learning_rate: 1.5625e-05\n",
      "Epoch 47/50\n",
      "\u001b[1m27/27\u001b[0m \u001b[32m━━━━━━━━━━━━━━━━━━━━\u001b[0m\u001b[37m\u001b[0m \u001b[1m23s\u001b[0m 866ms/step - accuracy: 1.0000 - loss: 0.5024 - val_accuracy: 0.9245 - val_loss: 0.7090 - learning_rate: 1.0000e-05\n",
      "Epoch 48/50\n",
      "\u001b[1m27/27\u001b[0m \u001b[32m━━━━━━━━━━━━━━━━━━━━\u001b[0m\u001b[37m\u001b[0m \u001b[1m23s\u001b[0m 867ms/step - accuracy: 1.0000 - loss: 0.4929 - val_accuracy: 0.9245 - val_loss: 0.6913 - learning_rate: 1.0000e-05\n",
      "Epoch 49/50\n",
      "\u001b[1m27/27\u001b[0m \u001b[32m━━━━━━━━━━━━━━━━━━━━\u001b[0m\u001b[37m\u001b[0m \u001b[1m24s\u001b[0m 872ms/step - accuracy: 1.0000 - loss: 0.4917 - val_accuracy: 0.9245 - val_loss: 0.6746 - learning_rate: 1.0000e-05\n",
      "Epoch 50/50\n",
      "\u001b[1m27/27\u001b[0m \u001b[32m━━━━━━━━━━━━━━━━━━━━\u001b[0m\u001b[37m\u001b[0m \u001b[1m24s\u001b[0m 890ms/step - accuracy: 1.0000 - loss: 0.4874 - val_accuracy: 0.9245 - val_loss: 0.6704 - learning_rate: 1.0000e-05\n"
     ]
    }
   ],
   "source": [
    "batch_size = 16  \n",
    "epochs = 50  \n",
    "\n",
    "# Learning rate adjustments & early stopping\n",
    "reduce_lr = ReduceLROnPlateau(monitor='val_loss', factor=0.5, patience=3, min_lr=1e-5)\n",
    "early_stopping = EarlyStopping(monitor='val_loss', patience=7, restore_best_weights=True)\n",
    "\n",
    "# Compile Model\n",
    "model.compile(optimizer=Adam(learning_rate=0.0005), loss='categorical_crossentropy', metrics=['accuracy'])\n",
    "\n",
    "# Train Model\n",
    "history = model.fit(\n",
    "    X_train, y_train,\n",
    "    validation_data=(X_val, y_val),\n",
    "    epochs=epochs,\n",
    "    batch_size=batch_size,\n",
    "    callbacks=[early_stopping, reduce_lr],\n",
    "    verbose=1\n",
    ")"
   ]
  },
  {
   "cell_type": "code",
   "execution_count": 220,
   "id": "e92bec09-b632-45d9-b2ba-46f845f739ba",
   "metadata": {},
   "outputs": [
    {
     "name": "stdout",
     "output_type": "stream",
     "text": [
      "\u001b[1m8/8\u001b[0m \u001b[32m━━━━━━━━━━━━━━━━━━━━\u001b[0m\u001b[37m\u001b[0m \u001b[1m1s\u001b[0m 159ms/step\n"
     ]
    }
   ],
   "source": [
    "predictions = model.predict(X_test_scaled, batch_size=16)\n",
    "predicted_classes = np.argmax(predictions, axis=1)"
   ]
  },
  {
   "cell_type": "code",
   "execution_count": 224,
   "id": "27c97452-b73d-473e-ad06-2f356b1eef59",
   "metadata": {},
   "outputs": [
    {
     "name": "stdout",
     "output_type": "stream",
     "text": [
      "        file_name         label\n",
      "0  sample_001.wav      aegir_27\n",
      "1  sample_002.wav   zephyrion_9\n",
      "2  sample_003.wav   strathea_iv\n",
      "3  sample_004.wav  veyrah_theta\n",
      "4  sample_005.wav      xyphos_1\n"
     ]
    }
   ],
   "source": [
    "class_dict = {\n",
    "    'aegir_27': 0,\n",
    "    'solmara_vi': 1,\n",
    "    'strathea_iv': 2,\n",
    "    'veyrah_theta': 3,\n",
    "    'xyphos_1': 4,\n",
    "    'zephyrion_9': 5\n",
    "}\n",
    "reversed_dict = {v: k for k, v in class_dict.items()}\n",
    "\n",
    "file_names = [f\"sample_{str(i).zfill(3)}.wav\" for i in range(1, 121)]\n",
    "\n",
    "predicted_class_names = [reversed_dict[class_label] for class_label in predicted_classes]\n",
    "\n",
    "submission_data = {'file_name': file_names[:len(predicted_class_names)], 'label': predicted_class_names}\n",
    "\n",
    "submission_df = pd.DataFrame(submission_data)\n",
    "\n",
    "submission_df.to_csv('submission.csv', index=False)\n",
    "\n",
    "print(submission_df.head())"
   ]
  },
  {
   "cell_type": "code",
   "execution_count": null,
   "id": "32d8052a-fefe-438c-b1c6-3c9c9519ef21",
   "metadata": {},
   "outputs": [],
   "source": []
  }
 ],
 "metadata": {
  "kernelspec": {
   "display_name": "Python 3 (ipykernel)",
   "language": "python",
   "name": "python3"
  },
  "language_info": {
   "codemirror_mode": {
    "name": "ipython",
    "version": 3
   },
   "file_extension": ".py",
   "mimetype": "text/x-python",
   "name": "python",
   "nbconvert_exporter": "python",
   "pygments_lexer": "ipython3",
   "version": "3.12.4"
  }
 },
 "nbformat": 4,
 "nbformat_minor": 5
}
